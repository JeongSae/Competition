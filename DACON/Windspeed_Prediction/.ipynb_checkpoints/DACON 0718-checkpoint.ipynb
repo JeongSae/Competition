{
 "cells": [
  {
   "cell_type": "markdown",
   "id": "0877b206",
   "metadata": {},
   "source": [
    "# Import"
   ]
  },
  {
   "cell_type": "code",
   "execution_count": 5,
   "id": "a3f0bd64",
   "metadata": {},
   "outputs": [],
   "source": [
    "import pandas as pd\n",
    "import numpy as np\n",
    "import random\n",
    "import os"
   ]
  },
  {
   "cell_type": "markdown",
   "id": "4a077a48",
   "metadata": {},
   "source": [
    "# Fixed RandomSeed"
   ]
  },
  {
   "cell_type": "code",
   "execution_count": 6,
   "id": "42c726f9",
   "metadata": {},
   "outputs": [],
   "source": [
    "def seed_everything(seed):\n",
    "    random.seed(seed)\n",
    "    os.environ['PYTHONHASHSEED'] = str(seed)\n",
    "    np.random.seed(seed)\n",
    "\n",
    "seed_everything(42) # Seed 고정"
   ]
  },
  {
   "cell_type": "markdown",
   "id": "b2c964bc",
   "metadata": {},
   "source": [
    "# Data Load"
   ]
  },
  {
   "cell_type": "code",
   "execution_count": 7,
   "id": "b5138369",
   "metadata": {},
   "outputs": [],
   "source": [
    "train = pd.read_csv('train.csv')\n",
    "test = pd.read_csv('test.csv')"
   ]
  },
  {
   "cell_type": "code",
   "execution_count": 8,
   "id": "938fac8e",
   "metadata": {},
   "outputs": [
    {
     "data": {
      "text/html": [
       "<div>\n",
       "<style scoped>\n",
       "    .dataframe tbody tr th:only-of-type {\n",
       "        vertical-align: middle;\n",
       "    }\n",
       "\n",
       "    .dataframe tbody tr th {\n",
       "        vertical-align: top;\n",
       "    }\n",
       "\n",
       "    .dataframe thead th {\n",
       "        text-align: right;\n",
       "    }\n",
       "</style>\n",
       "<table border=\"1\" class=\"dataframe\">\n",
       "  <thead>\n",
       "    <tr style=\"text-align: right;\">\n",
       "      <th></th>\n",
       "      <th>ID</th>\n",
       "      <th>월</th>\n",
       "      <th>일</th>\n",
       "      <th>측정 시간대</th>\n",
       "      <th>섭씨 온도(°⁣C)</th>\n",
       "      <th>절대 온도(K)</th>\n",
       "      <th>이슬점 온도(°C)</th>\n",
       "      <th>상대 습도 (%)</th>\n",
       "      <th>대기압(mbar)</th>\n",
       "      <th>포화 증기압(mbar)</th>\n",
       "      <th>실제 증기압(mbar)</th>\n",
       "      <th>증기압 부족량(mbar)</th>\n",
       "      <th>수증기 함량 (g/kg)</th>\n",
       "      <th>공기 밀도 (g/m**3)</th>\n",
       "      <th>풍향 (deg)</th>\n",
       "      <th>풍속 (m/s)</th>\n",
       "    </tr>\n",
       "  </thead>\n",
       "  <tbody>\n",
       "    <tr>\n",
       "      <th>0</th>\n",
       "      <td>TRAIN_00000</td>\n",
       "      <td>7</td>\n",
       "      <td>2</td>\n",
       "      <td>저녁</td>\n",
       "      <td>13.97</td>\n",
       "      <td>287.78</td>\n",
       "      <td>9.84</td>\n",
       "      <td>76.1</td>\n",
       "      <td>992.08</td>\n",
       "      <td>15.98</td>\n",
       "      <td>12.16</td>\n",
       "      <td>3.82</td>\n",
       "      <td>7.66</td>\n",
       "      <td>1198.06</td>\n",
       "      <td>155.60</td>\n",
       "      <td>1.61</td>\n",
       "    </tr>\n",
       "    <tr>\n",
       "      <th>1</th>\n",
       "      <td>TRAIN_00001</td>\n",
       "      <td>8</td>\n",
       "      <td>21</td>\n",
       "      <td>오전</td>\n",
       "      <td>16.94</td>\n",
       "      <td>290.85</td>\n",
       "      <td>12.14</td>\n",
       "      <td>73.3</td>\n",
       "      <td>991.07</td>\n",
       "      <td>19.33</td>\n",
       "      <td>14.17</td>\n",
       "      <td>5.16</td>\n",
       "      <td>8.94</td>\n",
       "      <td>1183.67</td>\n",
       "      <td>177.00</td>\n",
       "      <td>1.68</td>\n",
       "    </tr>\n",
       "    <tr>\n",
       "      <th>2</th>\n",
       "      <td>TRAIN_00002</td>\n",
       "      <td>11</td>\n",
       "      <td>1</td>\n",
       "      <td>저녁</td>\n",
       "      <td>9.76</td>\n",
       "      <td>283.84</td>\n",
       "      <td>5.40</td>\n",
       "      <td>74.2</td>\n",
       "      <td>988.71</td>\n",
       "      <td>12.10</td>\n",
       "      <td>8.98</td>\n",
       "      <td>3.12</td>\n",
       "      <td>5.67</td>\n",
       "      <td>1213.22</td>\n",
       "      <td>146.20</td>\n",
       "      <td>0.73</td>\n",
       "    </tr>\n",
       "    <tr>\n",
       "      <th>3</th>\n",
       "      <td>TRAIN_00003</td>\n",
       "      <td>12</td>\n",
       "      <td>28</td>\n",
       "      <td>오전</td>\n",
       "      <td>5.27</td>\n",
       "      <td>277.30</td>\n",
       "      <td>2.71</td>\n",
       "      <td>83.5</td>\n",
       "      <td>1014.25</td>\n",
       "      <td>8.89</td>\n",
       "      <td>7.43</td>\n",
       "      <td>1.47</td>\n",
       "      <td>4.57</td>\n",
       "      <td>1265.48</td>\n",
       "      <td>264.50</td>\n",
       "      <td>2.71</td>\n",
       "    </tr>\n",
       "    <tr>\n",
       "      <th>4</th>\n",
       "      <td>TRAIN_00004</td>\n",
       "      <td>9</td>\n",
       "      <td>26</td>\n",
       "      <td>오후</td>\n",
       "      <td>17.35</td>\n",
       "      <td>290.86</td>\n",
       "      <td>12.68</td>\n",
       "      <td>74.0</td>\n",
       "      <td>995.77</td>\n",
       "      <td>19.84</td>\n",
       "      <td>14.68</td>\n",
       "      <td>5.16</td>\n",
       "      <td>9.22</td>\n",
       "      <td>1187.40</td>\n",
       "      <td>19.34</td>\n",
       "      <td>1.00</td>\n",
       "    </tr>\n",
       "  </tbody>\n",
       "</table>\n",
       "</div>"
      ],
      "text/plain": [
       "            ID   월   일 측정 시간대  섭씨 온도(°⁣C)  절대 온도(K)  이슬점 온도(°C)  상대 습도 (%)  \\\n",
       "0  TRAIN_00000   7   2     저녁       13.97    287.78        9.84       76.1   \n",
       "1  TRAIN_00001   8  21     오전       16.94    290.85       12.14       73.3   \n",
       "2  TRAIN_00002  11   1     저녁        9.76    283.84        5.40       74.2   \n",
       "3  TRAIN_00003  12  28     오전        5.27    277.30        2.71       83.5   \n",
       "4  TRAIN_00004   9  26     오후       17.35    290.86       12.68       74.0   \n",
       "\n",
       "   대기압(mbar)  포화 증기압(mbar)  실제 증기압(mbar)  증기압 부족량(mbar)  수증기 함량 (g/kg)  \\\n",
       "0     992.08         15.98         12.16           3.82           7.66   \n",
       "1     991.07         19.33         14.17           5.16           8.94   \n",
       "2     988.71         12.10          8.98           3.12           5.67   \n",
       "3    1014.25          8.89          7.43           1.47           4.57   \n",
       "4     995.77         19.84         14.68           5.16           9.22   \n",
       "\n",
       "   공기 밀도 (g/m**3)  풍향 (deg)  풍속 (m/s)  \n",
       "0         1198.06    155.60      1.61  \n",
       "1         1183.67    177.00      1.68  \n",
       "2         1213.22    146.20      0.73  \n",
       "3         1265.48    264.50      2.71  \n",
       "4         1187.40     19.34      1.00  "
      ]
     },
     "execution_count": 8,
     "metadata": {},
     "output_type": "execute_result"
    }
   ],
   "source": [
    "train.head()"
   ]
  },
  {
   "cell_type": "markdown",
   "id": "c38f1551",
   "metadata": {},
   "source": [
    "# Analysis"
   ]
  },
  {
   "cell_type": "code",
   "execution_count": 9,
   "id": "39149a24",
   "metadata": {},
   "outputs": [
    {
     "name": "stdout",
     "output_type": "stream",
     "text": [
      "<class 'pandas.core.frame.DataFrame'>\n",
      "RangeIndex: 36581 entries, 0 to 36580\n",
      "Data columns (total 16 columns):\n",
      " #   Column          Non-Null Count  Dtype  \n",
      "---  ------          --------------  -----  \n",
      " 0   ID              36581 non-null  object \n",
      " 1   월               36581 non-null  int64  \n",
      " 2   일               36581 non-null  int64  \n",
      " 3   측정 시간대          36581 non-null  object \n",
      " 4   섭씨 온도(°⁣C)      36581 non-null  float64\n",
      " 5   절대 온도(K)        36581 non-null  float64\n",
      " 6   이슬점 온도(°C)      36581 non-null  float64\n",
      " 7   상대 습도 (%)       36581 non-null  float64\n",
      " 8   대기압(mbar)       36581 non-null  float64\n",
      " 9   포화 증기압(mbar)    36581 non-null  float64\n",
      " 10  실제 증기압(mbar)    36581 non-null  float64\n",
      " 11  증기압 부족량(mbar)   36581 non-null  float64\n",
      " 12  수증기 함량 (g/kg)   36581 non-null  float64\n",
      " 13  공기 밀도 (g/m**3)  36581 non-null  float64\n",
      " 14  풍향 (deg)        36581 non-null  float64\n",
      " 15  풍속 (m/s)        36581 non-null  float64\n",
      "dtypes: float64(12), int64(2), object(2)\n",
      "memory usage: 4.5+ MB\n"
     ]
    }
   ],
   "source": [
    "train.info()"
   ]
  },
  {
   "cell_type": "markdown",
   "id": "460f2f59",
   "metadata": {},
   "source": [
    "# Feature / Target split"
   ]
  },
  {
   "cell_type": "code",
   "execution_count": 10,
   "id": "0e4e6230",
   "metadata": {},
   "outputs": [],
   "source": [
    "# train_x는 독립변수이므로 종속변수(풍속 (m/s))를 제거합니다. \n",
    "# 또한 target 이외의 분석에 활용하지 않는 데이터(id)를 제거합니다.\n",
    "train_x = train.drop(columns=['ID', '풍속 (m/s)'], axis = 1)\n",
    "\n",
    "# train_y는 종속변수로 값을 설정합니다.\n",
    "train_y = train['풍속 (m/s)']"
   ]
  },
  {
   "cell_type": "code",
   "execution_count": 11,
   "id": "cb775843",
   "metadata": {},
   "outputs": [],
   "source": [
    "# train에서와 마찬가지로 분석에 활용하지 않는 데이터(id)를 제거합니다.\n",
    "test_x = test.drop(columns=['ID'])"
   ]
  },
  {
   "cell_type": "markdown",
   "id": "7a85de56",
   "metadata": {},
   "source": [
    "# Data Preprocessing"
   ]
  },
  {
   "cell_type": "code",
   "execution_count": 12,
   "id": "33ca9541",
   "metadata": {},
   "outputs": [],
   "source": [
    "from sklearn.preprocessing import LabelEncoder\n",
    "\n",
    "le = LabelEncoder()\n",
    "le = le.fit(train_x['측정 시간대'])\n",
    "train_x['측정 시간대'] = le.transform(train_x['측정 시간대'])\n",
    "test_x['측정 시간대'] = le.transform(test_x['측정 시간대'])"
   ]
  },
  {
   "cell_type": "markdown",
   "id": "8cfd7400",
   "metadata": {},
   "source": [
    "# Define Evaluate Function"
   ]
  },
  {
   "cell_type": "code",
   "execution_count": 25,
   "id": "8ec05fbf",
   "metadata": {},
   "outputs": [],
   "source": [
    "from sklearn.model_selection import train_test_split, KFold\n",
    "from sklearn.preprocessing import StandardScaler, MinMaxScaler, RobustScaler\n",
    "from sklearn.metrics import mean_squared_error\n",
    "from sklearn.model_selection import cross_val_score, cross_validate\n",
    "\n",
    "def test_func(test_model, X_train, y_train):\n",
    "    scaler = StandardScaler()\n",
    "    X_train_scaled = scaler.fit_transform(X_train)\n",
    "    nmse = cross_validate(test_model, X_train_scaled, y_train, scoring=['neg_mean_squared_error'], return_train_score=True, cv=5, n_jobs=-1)\n",
    "    mse = -1 * nmse['test_neg_mean_squared_error']\n",
    "    avg_mse = round(np.mean(mse), 4)\n",
    "    return print(f\"평균 MSE :{avg_mse :.4f}\")"
   ]
  },
  {
   "cell_type": "markdown",
   "id": "60ddbf34",
   "metadata": {},
   "source": [
    "# Define Regression Model and Evaluation"
   ]
  },
  {
   "cell_type": "code",
   "execution_count": 55,
   "id": "5f76a6a7",
   "metadata": {},
   "outputs": [],
   "source": [
    "from sklearn.svm import SVR\n",
    "from sklearn.linear_model import LinearRegression\n",
    "from sklearn.tree import DecisionTreeRegressor, ExtraTreeRegressor\n",
    "from sklearn.ensemble import RandomForestRegressor, ExtraTreesRegressor, BaggingRegressor\n",
    "from sklearn.ensemble import AdaBoostRegressor, GradientBoostingRegressor, HistGradientBoostingRegressor\n",
    "from sklearn.neural_network import MLPRegressor\n",
    "from xgboost import XGBRegressor\n",
    "from lightgbm import LGBMRegressor"
   ]
  },
  {
   "cell_type": "code",
   "execution_count": 27,
   "id": "08f9ed85",
   "metadata": {
    "scrolled": true
   },
   "outputs": [
    {
     "name": "stdout",
     "output_type": "stream",
     "text": [
      "평균 MSE :0.7636\n"
     ]
    }
   ],
   "source": [
    "test_func(DecisionTreeRegressor(random_state=1004), train_x, train_y)"
   ]
  },
  {
   "cell_type": "code",
   "execution_count": 29,
   "id": "2f12f27e",
   "metadata": {},
   "outputs": [
    {
     "name": "stdout",
     "output_type": "stream",
     "text": [
      "평균 MSE :0.3726\n"
     ]
    }
   ],
   "source": [
    "test_func(RandomForestRegressor(random_state=1004), train_x, train_y)"
   ]
  },
  {
   "cell_type": "code",
   "execution_count": 30,
   "id": "0a05d93b",
   "metadata": {},
   "outputs": [
    {
     "name": "stdout",
     "output_type": "stream",
     "text": [
      "평균 MSE :0.4230\n"
     ]
    }
   ],
   "source": [
    "test_func(BaggingRegressor(random_state=1004), train_x, train_y)"
   ]
  },
  {
   "cell_type": "code",
   "execution_count": 31,
   "id": "b7c28479",
   "metadata": {},
   "outputs": [
    {
     "name": "stdout",
     "output_type": "stream",
     "text": [
      "평균 MSE :1.8642\n"
     ]
    }
   ],
   "source": [
    "test_func(AdaBoostRegressor(random_state=1004), train_x, train_y)"
   ]
  },
  {
   "cell_type": "code",
   "execution_count": 32,
   "id": "650e6cae",
   "metadata": {},
   "outputs": [
    {
     "name": "stdout",
     "output_type": "stream",
     "text": [
      "평균 MSE :0.9413\n"
     ]
    }
   ],
   "source": [
    "test_func(MLPRegressor(random_state=1004), train_x, train_y)"
   ]
  },
  {
   "cell_type": "code",
   "execution_count": 33,
   "id": "38217b8d",
   "metadata": {},
   "outputs": [
    {
     "name": "stdout",
     "output_type": "stream",
     "text": [
      "평균 MSE :0.5256\n"
     ]
    }
   ],
   "source": [
    "test_func(XGBRegressor(random_state=1004), train_x, train_y)"
   ]
  },
  {
   "cell_type": "code",
   "execution_count": 34,
   "id": "d64c8da1",
   "metadata": {},
   "outputs": [
    {
     "name": "stdout",
     "output_type": "stream",
     "text": [
      "평균 MSE :0.6268\n"
     ]
    }
   ],
   "source": [
    "test_func(LGBMRegressor(random_state=1004), train_x, train_y)"
   ]
  },
  {
   "cell_type": "code",
   "execution_count": 35,
   "id": "030ae1c9",
   "metadata": {},
   "outputs": [
    {
     "name": "stdout",
     "output_type": "stream",
     "text": [
      "평균 MSE :0.2826\n"
     ]
    }
   ],
   "source": [
    "test_func(ExtraTreesRegressor(random_state=1004), train_x, train_y)"
   ]
  },
  {
   "cell_type": "code",
   "execution_count": 37,
   "id": "b66d83bc",
   "metadata": {},
   "outputs": [
    {
     "name": "stdout",
     "output_type": "stream",
     "text": [
      "평균 MSE :1.2035\n"
     ]
    }
   ],
   "source": [
    "test_func(SVR(), train_x, train_y)"
   ]
  },
  {
   "cell_type": "code",
   "execution_count": 51,
   "id": "feda0dc9",
   "metadata": {},
   "outputs": [
    {
     "name": "stdout",
     "output_type": "stream",
     "text": [
      "평균 MSE :1.8885\n"
     ]
    }
   ],
   "source": [
    "test_func(LinearRegression(), train_x, train_y)"
   ]
  },
  {
   "cell_type": "markdown",
   "id": "0bca04fc",
   "metadata": {},
   "source": [
    "# Training and Prediction"
   ]
  },
  {
   "cell_type": "code",
   "execution_count": 38,
   "id": "776e5de2",
   "metadata": {},
   "outputs": [],
   "source": [
    "# Define Model\n",
    "model = ExtraTreesRegressor(random_state=1004)\n",
    "\n",
    "# Normalization\n",
    "scaler = StandardScaler()\n",
    "train_x_scaled = scaler.fit_transform(train_x)\n",
    "test_x_scaled = scaler.transform(test_x)\n",
    "\n",
    "# Training\n",
    "model.fit(train_x_scaled , train_y)\n",
    "\n",
    "# Prediction\n",
    "preds = model.predict(test_x_scaled) "
   ]
  },
  {
   "cell_type": "markdown",
   "id": "0fcb039a",
   "metadata": {},
   "source": [
    "# Submission"
   ]
  },
  {
   "cell_type": "code",
   "execution_count": 39,
   "id": "813e5dac",
   "metadata": {},
   "outputs": [],
   "source": [
    "submission = pd.read_csv('./sample_submission.csv')"
   ]
  },
  {
   "cell_type": "code",
   "execution_count": 40,
   "id": "ee227d2c",
   "metadata": {},
   "outputs": [
    {
     "data": {
      "text/html": [
       "<div>\n",
       "<style scoped>\n",
       "    .dataframe tbody tr th:only-of-type {\n",
       "        vertical-align: middle;\n",
       "    }\n",
       "\n",
       "    .dataframe tbody tr th {\n",
       "        vertical-align: top;\n",
       "    }\n",
       "\n",
       "    .dataframe thead th {\n",
       "        text-align: right;\n",
       "    }\n",
       "</style>\n",
       "<table border=\"1\" class=\"dataframe\">\n",
       "  <thead>\n",
       "    <tr style=\"text-align: right;\">\n",
       "      <th></th>\n",
       "      <th>ID</th>\n",
       "      <th>풍속 (m/s)</th>\n",
       "    </tr>\n",
       "  </thead>\n",
       "  <tbody>\n",
       "    <tr>\n",
       "      <th>0</th>\n",
       "      <td>TEST_00000</td>\n",
       "      <td>1.5664</td>\n",
       "    </tr>\n",
       "    <tr>\n",
       "      <th>1</th>\n",
       "      <td>TEST_00001</td>\n",
       "      <td>1.0879</td>\n",
       "    </tr>\n",
       "    <tr>\n",
       "      <th>2</th>\n",
       "      <td>TEST_00002</td>\n",
       "      <td>2.0635</td>\n",
       "    </tr>\n",
       "    <tr>\n",
       "      <th>3</th>\n",
       "      <td>TEST_00003</td>\n",
       "      <td>1.0884</td>\n",
       "    </tr>\n",
       "    <tr>\n",
       "      <th>4</th>\n",
       "      <td>TEST_00004</td>\n",
       "      <td>1.2342</td>\n",
       "    </tr>\n",
       "  </tbody>\n",
       "</table>\n",
       "</div>"
      ],
      "text/plain": [
       "           ID  풍속 (m/s)\n",
       "0  TEST_00000    1.5664\n",
       "1  TEST_00001    1.0879\n",
       "2  TEST_00002    2.0635\n",
       "3  TEST_00003    1.0884\n",
       "4  TEST_00004    1.2342"
      ]
     },
     "execution_count": 40,
     "metadata": {},
     "output_type": "execute_result"
    }
   ],
   "source": [
    "submission['풍속 (m/s)'] = preds\n",
    "submission.head()"
   ]
  },
  {
   "cell_type": "code",
   "execution_count": 41,
   "id": "8ae40794",
   "metadata": {},
   "outputs": [],
   "source": [
    "submission.to_csv('./submission_windspeed_0720_1.csv', index=False)"
   ]
  },
  {
   "cell_type": "code",
   "execution_count": null,
   "id": "c8ba9738",
   "metadata": {},
   "outputs": [],
   "source": []
  },
  {
   "cell_type": "code",
   "execution_count": null,
   "id": "2a55af8d",
   "metadata": {},
   "outputs": [],
   "source": []
  },
  {
   "cell_type": "code",
   "execution_count": null,
   "id": "1cc1600c",
   "metadata": {},
   "outputs": [],
   "source": []
  },
  {
   "cell_type": "markdown",
   "id": "14d8e70b",
   "metadata": {},
   "source": [
    "# AutoGluon test"
   ]
  },
  {
   "cell_type": "code",
   "execution_count": 42,
   "id": "a70aded5",
   "metadata": {},
   "outputs": [
    {
     "name": "stderr",
     "output_type": "stream",
     "text": [
      "No path specified. Models will be saved in: \"AutogluonModels/ag-20230720_012636/\"\n",
      "Presets specified: ['best_quality']\n",
      "Stack configuration (auto_stack=True): num_stack_levels=1, num_bag_folds=8, num_bag_sets=1\n",
      "Beginning AutoGluon training ...\n",
      "AutoGluon will save models to \"AutogluonModels/ag-20230720_012636/\"\n",
      "AutoGluon Version:  0.7.0\n",
      "Python Version:     3.8.8\n",
      "Operating System:   Linux\n",
      "Platform Machine:   x86_64\n",
      "Platform Version:   #112-Ubuntu SMP Thu Feb 3 13:50:55 UTC 2022\n",
      "Train Data Rows:    36581\n",
      "Train Data Columns: 14\n",
      "Label Column: TARGET\n",
      "Preprocessing data ...\n",
      "Using Feature Generators to preprocess the data ...\n",
      "Fitting AutoMLPipelineFeatureGenerator...\n",
      "\tAvailable Memory:                    162686.98 MB\n",
      "\tTrain Data (Original)  Memory Usage: 4.1 MB (0.0% of available memory)\n",
      "\tInferring data type of each feature based on column values. Set feature_metadata_in to manually specify special dtypes of the features.\n",
      "\tStage 1 Generators:\n",
      "\t\tFitting AsTypeFeatureGenerator...\n",
      "\tStage 2 Generators:\n",
      "\t\tFitting FillNaFeatureGenerator...\n",
      "\tStage 3 Generators:\n",
      "\t\tFitting IdentityFeatureGenerator...\n",
      "\tStage 4 Generators:\n",
      "\t\tFitting DropUniqueFeatureGenerator...\n",
      "\tTypes of features in original data (raw dtype, special dtypes):\n",
      "\t\t('float', []) : 14 | ['0', '1', '2', '3', '4', ...]\n",
      "\tTypes of features in processed data (raw dtype, special dtypes):\n",
      "\t\t('float', []) : 14 | ['0', '1', '2', '3', '4', ...]\n",
      "\t0.2s = Fit runtime\n",
      "\t14 features in original data used to generate 14 features in processed data.\n",
      "\tTrain Data (Processed) Memory Usage: 4.1 MB (0.0% of available memory)\n",
      "Data preprocessing and feature engineering runtime = 0.26s ...\n",
      "AutoGluon will gauge predictive performance using evaluation metric: 'mean_squared_error'\n",
      "\tThis metric's sign has been flipped to adhere to being higher_is_better. The metric score can be multiplied by -1 to get the metric value.\n",
      "\tTo change this, specify the eval_metric parameter of Predictor()\n",
      "AutoGluon will fit 2 stack levels (L1 to L2) ...\n",
      "Fitting 11 L1 models ...\n",
      "Fitting model: KNeighborsUnif_BAG_L1 ...\n",
      "\t-0.3634\t = Validation score   (-mean_squared_error)\n",
      "\t0.12s\t = Training   runtime\n",
      "\t1.2s\t = Validation runtime\n",
      "Fitting model: KNeighborsDist_BAG_L1 ...\n",
      "\t-0.3179\t = Validation score   (-mean_squared_error)\n",
      "\t0.12s\t = Training   runtime\n",
      "\t1.04s\t = Validation runtime\n",
      "Fitting model: LightGBMXT_BAG_L1 ...\n",
      "\tFitting 8 child models (S1F1 - S1F8) | Fitting with ParallelLocalFoldFittingStrategy\n",
      "\t-0.3328\t = Validation score   (-mean_squared_error)\n",
      "\t35.22s\t = Training   runtime\n",
      "\t23.98s\t = Validation runtime\n",
      "Fitting model: LightGBM_BAG_L1 ...\n",
      "\tFitting 8 child models (S1F1 - S1F8) | Fitting with ParallelLocalFoldFittingStrategy\n",
      "\t-0.3293\t = Validation score   (-mean_squared_error)\n",
      "\t36.09s\t = Training   runtime\n",
      "\t19.72s\t = Validation runtime\n",
      "Fitting model: RandomForestMSE_BAG_L1 ...\n",
      "\t-0.3349\t = Validation score   (-mean_squared_error)\n",
      "\t6.93s\t = Training   runtime\n",
      "\t8.7s\t = Validation runtime\n",
      "Fitting model: CatBoost_BAG_L1 ...\n",
      "\tFitting 8 child models (S1F1 - S1F8) | Fitting with ParallelLocalFoldFittingStrategy\n",
      "\t-0.3554\t = Validation score   (-mean_squared_error)\n",
      "\t236.13s\t = Training   runtime\n",
      "\t0.17s\t = Validation runtime\n",
      "Fitting model: ExtraTreesMSE_BAG_L1 ...\n",
      "\t-0.2808\t = Validation score   (-mean_squared_error)\n",
      "\t1.67s\t = Training   runtime\n",
      "\t8.0s\t = Validation runtime\n",
      "Fitting model: NeuralNetFastAI_BAG_L1 ...\n",
      "\tFitting 8 child models (S1F1 - S1F8) | Fitting with ParallelLocalFoldFittingStrategy\n",
      "\tWarning: Exception caused NeuralNetFastAI_BAG_L1 to fail during training... Skipping this model.\n",
      "\t\t\u001b[36mray::_ray_fit()\u001b[39m (pid=2249082, ip=172.17.0.2)\n",
      "  File \"/root/anaconda3/lib/python3.8/ctypes/__init__.py\", line 381, in __init__\n",
      "    self._handle = _dlopen(self._name, mode)\n",
      "OSError: /root/anaconda3/lib/python3.8/site-packages/torch/lib/../../nvidia/cublas/lib/libcublas.so.11: undefined symbol: cublasLtGetStatusString, version libcublasLt.so.11\n",
      "\n",
      "During handling of the above exception, another exception occurred:\n",
      "\n",
      "\u001b[36mray::_ray_fit()\u001b[39m (pid=2249082, ip=172.17.0.2)\n",
      "  File \"/root/anaconda3/lib/python3.8/site-packages/autogluon/core/models/ensemble/fold_fitting_strategy.py\", line 374, in _ray_fit\n",
      "    fold_model.fit(X=X_fold, y=y_fold, X_val=X_val_fold, y_val=y_val_fold,\n",
      "  File \"/root/anaconda3/lib/python3.8/site-packages/autogluon/core/models/abstract/abstract_model.py\", line 703, in fit\n",
      "    out = self._fit(**kwargs)\n",
      "  File \"/root/anaconda3/lib/python3.8/site-packages/autogluon/tabular/models/fastainn/tabular_nn_fastai.py\", line 191, in _fit\n",
      "    try_import_fastai()\n",
      "  File \"/root/anaconda3/lib/python3.8/site-packages/autogluon/core/utils/try_import.py\", line 196, in try_import_fastai\n",
      "    import autogluon.tabular.models.fastainn.imports_helper\n",
      "  File \"/root/anaconda3/lib/python3.8/site-packages/autogluon/tabular/models/fastainn/imports_helper.py\", line 1, in <module>\n",
      "    from fastai.tabular.all import *\n",
      "  File \"/root/anaconda3/lib/python3.8/site-packages/fastai/tabular/all.py\", line 1, in <module>\n",
      "    from ..basics import *\n",
      "  File \"/root/anaconda3/lib/python3.8/site-packages/fastai/basics.py\", line 1, in <module>\n",
      "    from .data.all import *\n",
      "  File \"/root/anaconda3/lib/python3.8/site-packages/fastai/data/all.py\", line 1, in <module>\n",
      "    from ..torch_basics import *\n",
      "  File \"/root/anaconda3/lib/python3.8/site-packages/fastai/torch_basics.py\", line 1, in <module>\n",
      "    from torch import multiprocessing\n",
      "  File \"/root/anaconda3/lib/python3.8/site-packages/torch/__init__.py\", line 217, in <module>\n",
      "    _load_global_deps()\n",
      "  File \"/root/anaconda3/lib/python3.8/site-packages/torch/__init__.py\", line 178, in _load_global_deps\n",
      "    _preload_cuda_deps()\n",
      "  File \"/root/anaconda3/lib/python3.8/site-packages/torch/__init__.py\", line 158, in _preload_cuda_deps\n",
      "    ctypes.CDLL(cublas_path)\n",
      "  File \"/root/anaconda3/lib/python3.8/ctypes/__init__.py\", line 381, in __init__\n",
      "    self._handle = _dlopen(self._name, mode)\n",
      "OSError: /root/anaconda3/lib/python3.8/site-packages/nvidia/cublas/lib/libcublas.so.11: undefined symbol: cublasLtGetStatusString, version libcublasLt.so.11\n",
      "Detailed Traceback:\n",
      "Traceback (most recent call last):\n",
      "  File \"/root/anaconda3/lib/python3.8/site-packages/autogluon/core/trainer/abstract_trainer.py\", line 1502, in _train_and_save\n",
      "    model = self._train_single(X, y, model, X_val, y_val, total_resources=total_resources, **model_fit_kwargs)\n",
      "  File \"/root/anaconda3/lib/python3.8/site-packages/autogluon/core/trainer/abstract_trainer.py\", line 1447, in _train_single\n",
      "    model = model.fit(X=X, y=y, X_val=X_val, y_val=y_val, total_resources=total_resources, **model_fit_kwargs)\n",
      "  File \"/root/anaconda3/lib/python3.8/site-packages/autogluon/core/models/abstract/abstract_model.py\", line 703, in fit\n",
      "    out = self._fit(**kwargs)\n",
      "  File \"/root/anaconda3/lib/python3.8/site-packages/autogluon/core/models/ensemble/stacker_ensemble_model.py\", line 154, in _fit\n",
      "    return super()._fit(X=X, y=y, time_limit=time_limit, **kwargs)\n",
      "  File \"/root/anaconda3/lib/python3.8/site-packages/autogluon/core/models/ensemble/bagged_ensemble_model.py\", line 248, in _fit\n",
      "    self._fit_folds(X=X, y=y, model_base=model_base, X_pseudo=X_pseudo, y_pseudo=y_pseudo,\n",
      "  File \"/root/anaconda3/lib/python3.8/site-packages/autogluon/core/models/ensemble/bagged_ensemble_model.py\", line 540, in _fit_folds\n",
      "    fold_fitting_strategy.after_all_folds_scheduled()\n",
      "  File \"/root/anaconda3/lib/python3.8/site-packages/autogluon/core/models/ensemble/fold_fitting_strategy.py\", line 537, in after_all_folds_scheduled\n",
      "    raise processed_exception\n",
      "  File \"/root/anaconda3/lib/python3.8/site-packages/autogluon/core/models/ensemble/fold_fitting_strategy.py\", line 505, in after_all_folds_scheduled\n",
      "    time_end_fit, predict_time, predict_1_time = self.ray.get(finished)\n",
      "  File \"/root/anaconda3/lib/python3.8/site-packages/ray/_private/client_mode_hook.py\", line 105, in wrapper\n",
      "    return func(*args, **kwargs)\n",
      "  File \"/root/anaconda3/lib/python3.8/site-packages/ray/_private/worker.py\", line 2309, in get\n",
      "    raise value.as_instanceof_cause()\n",
      "ray.exceptions.RayTaskError(OSError): \u001b[36mray::_ray_fit()\u001b[39m (pid=2249082, ip=172.17.0.2)\n",
      "  File \"/root/anaconda3/lib/python3.8/ctypes/__init__.py\", line 381, in __init__\n",
      "    self._handle = _dlopen(self._name, mode)\n",
      "OSError: /root/anaconda3/lib/python3.8/site-packages/torch/lib/../../nvidia/cublas/lib/libcublas.so.11: undefined symbol: cublasLtGetStatusString, version libcublasLt.so.11\n",
      "\n",
      "During handling of the above exception, another exception occurred:\n",
      "\n",
      "\u001b[36mray::_ray_fit()\u001b[39m (pid=2249082, ip=172.17.0.2)\n",
      "  File \"/root/anaconda3/lib/python3.8/site-packages/autogluon/core/models/ensemble/fold_fitting_strategy.py\", line 374, in _ray_fit\n",
      "    fold_model.fit(X=X_fold, y=y_fold, X_val=X_val_fold, y_val=y_val_fold,\n",
      "  File \"/root/anaconda3/lib/python3.8/site-packages/autogluon/core/models/abstract/abstract_model.py\", line 703, in fit\n",
      "    out = self._fit(**kwargs)\n",
      "  File \"/root/anaconda3/lib/python3.8/site-packages/autogluon/tabular/models/fastainn/tabular_nn_fastai.py\", line 191, in _fit\n",
      "    try_import_fastai()\n",
      "  File \"/root/anaconda3/lib/python3.8/site-packages/autogluon/core/utils/try_import.py\", line 196, in try_import_fastai\n",
      "    import autogluon.tabular.models.fastainn.imports_helper\n",
      "  File \"/root/anaconda3/lib/python3.8/site-packages/autogluon/tabular/models/fastainn/imports_helper.py\", line 1, in <module>\n",
      "    from fastai.tabular.all import *\n",
      "  File \"/root/anaconda3/lib/python3.8/site-packages/fastai/tabular/all.py\", line 1, in <module>\n",
      "    from ..basics import *\n",
      "  File \"/root/anaconda3/lib/python3.8/site-packages/fastai/basics.py\", line 1, in <module>\n",
      "    from .data.all import *\n",
      "  File \"/root/anaconda3/lib/python3.8/site-packages/fastai/data/all.py\", line 1, in <module>\n",
      "    from ..torch_basics import *\n",
      "  File \"/root/anaconda3/lib/python3.8/site-packages/fastai/torch_basics.py\", line 1, in <module>\n",
      "    from torch import multiprocessing\n",
      "  File \"/root/anaconda3/lib/python3.8/site-packages/torch/__init__.py\", line 217, in <module>\n",
      "    _load_global_deps()\n",
      "  File \"/root/anaconda3/lib/python3.8/site-packages/torch/__init__.py\", line 178, in _load_global_deps\n",
      "    _preload_cuda_deps()\n",
      "  File \"/root/anaconda3/lib/python3.8/site-packages/torch/__init__.py\", line 158, in _preload_cuda_deps\n",
      "    ctypes.CDLL(cublas_path)\n",
      "  File \"/root/anaconda3/lib/python3.8/ctypes/__init__.py\", line 381, in __init__\n",
      "    self._handle = _dlopen(self._name, mode)\n",
      "OSError: /root/anaconda3/lib/python3.8/site-packages/nvidia/cublas/lib/libcublas.so.11: undefined symbol: cublasLtGetStatusString, version libcublasLt.so.11\n"
     ]
    },
    {
     "name": "stderr",
     "output_type": "stream",
     "text": [
      "Fitting model: XGBoost_BAG_L1 ...\n",
      "\tFitting 8 child models (S1F1 - S1F8) | Fitting with ParallelLocalFoldFittingStrategy\n",
      "2023-07-20 01:32:59,863\tERROR worker.py:400 -- Unhandled error (suppress with 'RAY_IGNORE_UNHANDLED_ERRORS=1'): \u001b[36mray::_ray_fit()\u001b[39m (pid=2249087, ip=172.17.0.2)\n",
      "  File \"/root/anaconda3/lib/python3.8/ctypes/__init__.py\", line 381, in __init__\n",
      "    self._handle = _dlopen(self._name, mode)\n",
      "OSError: /root/anaconda3/lib/python3.8/site-packages/torch/lib/../../nvidia/cublas/lib/libcublas.so.11: undefined symbol: cublasLtGetStatusString, version libcublasLt.so.11\n",
      "\n",
      "During handling of the above exception, another exception occurred:\n",
      "\n",
      "\u001b[36mray::_ray_fit()\u001b[39m (pid=2249087, ip=172.17.0.2)\n",
      "  File \"/root/anaconda3/lib/python3.8/site-packages/autogluon/core/models/ensemble/fold_fitting_strategy.py\", line 374, in _ray_fit\n",
      "    fold_model.fit(X=X_fold, y=y_fold, X_val=X_val_fold, y_val=y_val_fold,\n",
      "  File \"/root/anaconda3/lib/python3.8/site-packages/autogluon/core/models/abstract/abstract_model.py\", line 703, in fit\n",
      "    out = self._fit(**kwargs)\n",
      "  File \"/root/anaconda3/lib/python3.8/site-packages/autogluon/tabular/models/fastainn/tabular_nn_fastai.py\", line 191, in _fit\n",
      "    try_import_fastai()\n",
      "  File \"/root/anaconda3/lib/python3.8/site-packages/autogluon/core/utils/try_import.py\", line 196, in try_import_fastai\n",
      "    import autogluon.tabular.models.fastainn.imports_helper\n",
      "  File \"/root/anaconda3/lib/python3.8/site-packages/autogluon/tabular/models/fastainn/imports_helper.py\", line 1, in <module>\n",
      "    from fastai.tabular.all import *\n",
      "  File \"/root/anaconda3/lib/python3.8/site-packages/fastai/tabular/all.py\", line 1, in <module>\n",
      "    from ..basics import *\n",
      "  File \"/root/anaconda3/lib/python3.8/site-packages/fastai/basics.py\", line 1, in <module>\n",
      "    from .data.all import *\n",
      "  File \"/root/anaconda3/lib/python3.8/site-packages/fastai/data/all.py\", line 1, in <module>\n",
      "    from ..torch_basics import *\n",
      "  File \"/root/anaconda3/lib/python3.8/site-packages/fastai/torch_basics.py\", line 1, in <module>\n",
      "    from torch import multiprocessing\n",
      "  File \"/root/anaconda3/lib/python3.8/site-packages/torch/__init__.py\", line 217, in <module>\n",
      "    _load_global_deps()\n",
      "  File \"/root/anaconda3/lib/python3.8/site-packages/torch/__init__.py\", line 178, in _load_global_deps\n",
      "    _preload_cuda_deps()\n",
      "  File \"/root/anaconda3/lib/python3.8/site-packages/torch/__init__.py\", line 158, in _preload_cuda_deps\n",
      "    ctypes.CDLL(cublas_path)\n",
      "  File \"/root/anaconda3/lib/python3.8/ctypes/__init__.py\", line 381, in __init__\n",
      "    self._handle = _dlopen(self._name, mode)\n",
      "OSError: /root/anaconda3/lib/python3.8/site-packages/nvidia/cublas/lib/libcublas.so.11: undefined symbol: cublasLtGetStatusString, version libcublasLt.so.11\n",
      "2023-07-20 01:33:00,863\tERROR worker.py:400 -- Unhandled error (suppress with 'RAY_IGNORE_UNHANDLED_ERRORS=1'): The worker died unexpectedly while executing this task. Check python-core-worker-*.log files for more information.\n",
      "2023-07-20 01:33:00,865\tERROR worker.py:400 -- Unhandled error (suppress with 'RAY_IGNORE_UNHANDLED_ERRORS=1'): The worker died unexpectedly while executing this task. Check python-core-worker-*.log files for more information.\n",
      "2023-07-20 01:33:00,867\tERROR worker.py:400 -- Unhandled error (suppress with 'RAY_IGNORE_UNHANDLED_ERRORS=1'): The worker died unexpectedly while executing this task. Check python-core-worker-*.log files for more information.\n",
      "2023-07-20 01:33:00,868\tERROR worker.py:400 -- Unhandled error (suppress with 'RAY_IGNORE_UNHANDLED_ERRORS=1'): The worker died unexpectedly while executing this task. Check python-core-worker-*.log files for more information.\n",
      "2023-07-20 01:33:00,869\tERROR worker.py:400 -- Unhandled error (suppress with 'RAY_IGNORE_UNHANDLED_ERRORS=1'): The worker died unexpectedly while executing this task. Check python-core-worker-*.log files for more information.\n",
      "2023-07-20 01:33:00,870\tERROR worker.py:400 -- Unhandled error (suppress with 'RAY_IGNORE_UNHANDLED_ERRORS=1'): The worker died unexpectedly while executing this task. Check python-core-worker-*.log files for more information.\n",
      "\t-0.3521\t = Validation score   (-mean_squared_error)\n",
      "\t55.52s\t = Training   runtime\n",
      "\t9.05s\t = Validation runtime\n",
      "Fitting model: NeuralNetTorch_BAG_L1 ...\n",
      "\tFitting 8 child models (S1F1 - S1F8) | Fitting with ParallelLocalFoldFittingStrategy\n",
      "\tWarning: Exception caused NeuralNetTorch_BAG_L1 to fail during training... Skipping this model.\n",
      "\t\t\u001b[36mray::_ray_fit()\u001b[39m (pid=2251214, ip=172.17.0.2)\n",
      "  File \"/root/anaconda3/lib/python3.8/ctypes/__init__.py\", line 381, in __init__\n",
      "    self._handle = _dlopen(self._name, mode)\n",
      "OSError: /root/anaconda3/lib/python3.8/site-packages/torch/lib/../../nvidia/cublas/lib/libcublas.so.11: undefined symbol: cublasLtGetStatusString, version libcublasLt.so.11\n",
      "\n",
      "During handling of the above exception, another exception occurred:\n",
      "\n",
      "\u001b[36mray::_ray_fit()\u001b[39m (pid=2251214, ip=172.17.0.2)\n",
      "  File \"/root/anaconda3/lib/python3.8/site-packages/autogluon/core/models/ensemble/fold_fitting_strategy.py\", line 374, in _ray_fit\n",
      "    fold_model.fit(X=X_fold, y=y_fold, X_val=X_val_fold, y_val=y_val_fold,\n",
      "  File \"/root/anaconda3/lib/python3.8/site-packages/autogluon/core/models/abstract/abstract_model.py\", line 703, in fit\n",
      "    out = self._fit(**kwargs)\n",
      "  File \"/root/anaconda3/lib/python3.8/site-packages/autogluon/tabular/models/tabular_nn/torch/tabular_nn_torch.py\", line 143, in _fit\n",
      "    try_import_torch()\n",
      "  File \"/root/anaconda3/lib/python3.8/site-packages/autogluon/core/utils/try_import.py\", line 204, in try_import_torch\n",
      "    import torch\n",
      "  File \"/root/anaconda3/lib/python3.8/site-packages/torch/__init__.py\", line 217, in <module>\n",
      "    _load_global_deps()\n",
      "  File \"/root/anaconda3/lib/python3.8/site-packages/torch/__init__.py\", line 178, in _load_global_deps\n",
      "    _preload_cuda_deps()\n",
      "  File \"/root/anaconda3/lib/python3.8/site-packages/torch/__init__.py\", line 158, in _preload_cuda_deps\n",
      "    ctypes.CDLL(cublas_path)\n",
      "  File \"/root/anaconda3/lib/python3.8/ctypes/__init__.py\", line 381, in __init__\n",
      "    self._handle = _dlopen(self._name, mode)\n",
      "OSError: /root/anaconda3/lib/python3.8/site-packages/nvidia/cublas/lib/libcublas.so.11: undefined symbol: cublasLtGetStatusString, version libcublasLt.so.11\n",
      "Detailed Traceback:\n",
      "Traceback (most recent call last):\n",
      "  File \"/root/anaconda3/lib/python3.8/site-packages/autogluon/core/trainer/abstract_trainer.py\", line 1502, in _train_and_save\n",
      "    model = self._train_single(X, y, model, X_val, y_val, total_resources=total_resources, **model_fit_kwargs)\n",
      "  File \"/root/anaconda3/lib/python3.8/site-packages/autogluon/core/trainer/abstract_trainer.py\", line 1447, in _train_single\n",
      "    model = model.fit(X=X, y=y, X_val=X_val, y_val=y_val, total_resources=total_resources, **model_fit_kwargs)\n",
      "  File \"/root/anaconda3/lib/python3.8/site-packages/autogluon/core/models/abstract/abstract_model.py\", line 703, in fit\n",
      "    out = self._fit(**kwargs)\n",
      "  File \"/root/anaconda3/lib/python3.8/site-packages/autogluon/core/models/ensemble/stacker_ensemble_model.py\", line 154, in _fit\n",
      "    return super()._fit(X=X, y=y, time_limit=time_limit, **kwargs)\n",
      "  File \"/root/anaconda3/lib/python3.8/site-packages/autogluon/core/models/ensemble/bagged_ensemble_model.py\", line 248, in _fit\n",
      "    self._fit_folds(X=X, y=y, model_base=model_base, X_pseudo=X_pseudo, y_pseudo=y_pseudo,\n",
      "  File \"/root/anaconda3/lib/python3.8/site-packages/autogluon/core/models/ensemble/bagged_ensemble_model.py\", line 540, in _fit_folds\n",
      "    fold_fitting_strategy.after_all_folds_scheduled()\n",
      "  File \"/root/anaconda3/lib/python3.8/site-packages/autogluon/core/models/ensemble/fold_fitting_strategy.py\", line 537, in after_all_folds_scheduled\n",
      "    raise processed_exception\n",
      "  File \"/root/anaconda3/lib/python3.8/site-packages/autogluon/core/models/ensemble/fold_fitting_strategy.py\", line 505, in after_all_folds_scheduled\n",
      "    time_end_fit, predict_time, predict_1_time = self.ray.get(finished)\n",
      "  File \"/root/anaconda3/lib/python3.8/site-packages/ray/_private/client_mode_hook.py\", line 105, in wrapper\n",
      "    return func(*args, **kwargs)\n",
      "  File \"/root/anaconda3/lib/python3.8/site-packages/ray/_private/worker.py\", line 2309, in get\n",
      "    raise value.as_instanceof_cause()\n",
      "ray.exceptions.RayTaskError(OSError): \u001b[36mray::_ray_fit()\u001b[39m (pid=2251214, ip=172.17.0.2)\n",
      "  File \"/root/anaconda3/lib/python3.8/ctypes/__init__.py\", line 381, in __init__\n",
      "    self._handle = _dlopen(self._name, mode)\n",
      "OSError: /root/anaconda3/lib/python3.8/site-packages/torch/lib/../../nvidia/cublas/lib/libcublas.so.11: undefined symbol: cublasLtGetStatusString, version libcublasLt.so.11\n",
      "\n",
      "During handling of the above exception, another exception occurred:\n",
      "\n",
      "\u001b[36mray::_ray_fit()\u001b[39m (pid=2251214, ip=172.17.0.2)\n",
      "  File \"/root/anaconda3/lib/python3.8/site-packages/autogluon/core/models/ensemble/fold_fitting_strategy.py\", line 374, in _ray_fit\n",
      "    fold_model.fit(X=X_fold, y=y_fold, X_val=X_val_fold, y_val=y_val_fold,\n",
      "  File \"/root/anaconda3/lib/python3.8/site-packages/autogluon/core/models/abstract/abstract_model.py\", line 703, in fit\n",
      "    out = self._fit(**kwargs)\n",
      "  File \"/root/anaconda3/lib/python3.8/site-packages/autogluon/tabular/models/tabular_nn/torch/tabular_nn_torch.py\", line 143, in _fit\n",
      "    try_import_torch()\n",
      "  File \"/root/anaconda3/lib/python3.8/site-packages/autogluon/core/utils/try_import.py\", line 204, in try_import_torch\n",
      "    import torch\n",
      "  File \"/root/anaconda3/lib/python3.8/site-packages/torch/__init__.py\", line 217, in <module>\n",
      "    _load_global_deps()\n",
      "  File \"/root/anaconda3/lib/python3.8/site-packages/torch/__init__.py\", line 178, in _load_global_deps\n",
      "    _preload_cuda_deps()\n",
      "  File \"/root/anaconda3/lib/python3.8/site-packages/torch/__init__.py\", line 158, in _preload_cuda_deps\n",
      "    ctypes.CDLL(cublas_path)\n",
      "  File \"/root/anaconda3/lib/python3.8/ctypes/__init__.py\", line 381, in __init__\n",
      "    self._handle = _dlopen(self._name, mode)\n",
      "OSError: /root/anaconda3/lib/python3.8/site-packages/nvidia/cublas/lib/libcublas.so.11: undefined symbol: cublasLtGetStatusString, version libcublasLt.so.11\n"
     ]
    },
    {
     "name": "stderr",
     "output_type": "stream",
     "text": [
      "Fitting model: LightGBMLarge_BAG_L1 ...\n",
      "\tFitting 8 child models (S1F1 - S1F8) | Fitting with ParallelLocalFoldFittingStrategy\n",
      "2023-07-20 01:34:02,444\tERROR worker.py:400 -- Unhandled error (suppress with 'RAY_IGNORE_UNHANDLED_ERRORS=1'): The worker died unexpectedly while executing this task. Check python-core-worker-*.log files for more information.\n",
      "2023-07-20 01:34:02,451\tERROR worker.py:400 -- Unhandled error (suppress with 'RAY_IGNORE_UNHANDLED_ERRORS=1'): The worker died unexpectedly while executing this task. Check python-core-worker-*.log files for more information.\n",
      "2023-07-20 01:34:02,453\tERROR worker.py:400 -- Unhandled error (suppress with 'RAY_IGNORE_UNHANDLED_ERRORS=1'): The worker died unexpectedly while executing this task. Check python-core-worker-*.log files for more information.\n",
      "2023-07-20 01:34:02,454\tERROR worker.py:400 -- Unhandled error (suppress with 'RAY_IGNORE_UNHANDLED_ERRORS=1'): The worker died unexpectedly while executing this task. Check python-core-worker-*.log files for more information.\n",
      "2023-07-20 01:34:02,455\tERROR worker.py:400 -- Unhandled error (suppress with 'RAY_IGNORE_UNHANDLED_ERRORS=1'): The worker died unexpectedly while executing this task. Check python-core-worker-*.log files for more information.\n",
      "2023-07-20 01:34:02,479\tERROR worker.py:400 -- Unhandled error (suppress with 'RAY_IGNORE_UNHANDLED_ERRORS=1'): The worker died unexpectedly while executing this task. Check python-core-worker-*.log files for more information.\n",
      "2023-07-20 01:34:02,481\tERROR worker.py:400 -- Unhandled error (suppress with 'RAY_IGNORE_UNHANDLED_ERRORS=1'): The worker died unexpectedly while executing this task. Check python-core-worker-*.log files for more information.\n",
      "\t-0.3099\t = Validation score   (-mean_squared_error)\n",
      "\t86.21s\t = Training   runtime\n",
      "\t22.45s\t = Validation runtime\n",
      "Fitting model: WeightedEnsemble_L2 ...\n",
      "\t-0.2708\t = Validation score   (-mean_squared_error)\n",
      "\t0.76s\t = Training   runtime\n",
      "\t0.0s\t = Validation runtime\n",
      "Fitting 9 L2 models ...\n",
      "Fitting model: LightGBMXT_BAG_L2 ...\n",
      "\tFitting 8 child models (S1F1 - S1F8) | Fitting with ParallelLocalFoldFittingStrategy\n",
      "\t-0.2649\t = Validation score   (-mean_squared_error)\n",
      "\t6.63s\t = Training   runtime\n",
      "\t0.41s\t = Validation runtime\n",
      "Fitting model: LightGBM_BAG_L2 ...\n",
      "\tFitting 8 child models (S1F1 - S1F8) | Fitting with ParallelLocalFoldFittingStrategy\n",
      "\t-0.2589\t = Validation score   (-mean_squared_error)\n",
      "\t4.05s\t = Training   runtime\n",
      "\t0.15s\t = Validation runtime\n",
      "Fitting model: RandomForestMSE_BAG_L2 ...\n",
      "\t-0.2616\t = Validation score   (-mean_squared_error)\n",
      "\t12.64s\t = Training   runtime\n",
      "\t8.5s\t = Validation runtime\n",
      "Fitting model: CatBoost_BAG_L2 ...\n",
      "\tFitting 8 child models (S1F1 - S1F8) | Fitting with ParallelLocalFoldFittingStrategy\n",
      "\t-0.2588\t = Validation score   (-mean_squared_error)\n",
      "\t11.63s\t = Training   runtime\n",
      "\t0.1s\t = Validation runtime\n",
      "Fitting model: ExtraTreesMSE_BAG_L2 ...\n",
      "\t-0.2585\t = Validation score   (-mean_squared_error)\n",
      "\t2.55s\t = Training   runtime\n",
      "\t7.51s\t = Validation runtime\n",
      "Fitting model: NeuralNetFastAI_BAG_L2 ...\n",
      "\tFitting 8 child models (S1F1 - S1F8) | Fitting with ParallelLocalFoldFittingStrategy\n",
      "\tWarning: Exception caused NeuralNetFastAI_BAG_L2 to fail during training... Skipping this model.\n",
      "\t\t\u001b[36mray::_ray_fit()\u001b[39m (pid=2257214, ip=172.17.0.2)\n",
      "  File \"/root/anaconda3/lib/python3.8/ctypes/__init__.py\", line 381, in __init__\n",
      "    self._handle = _dlopen(self._name, mode)\n",
      "OSError: /root/anaconda3/lib/python3.8/site-packages/torch/lib/../../nvidia/cublas/lib/libcublas.so.11: undefined symbol: cublasLtGetStatusString, version libcublasLt.so.11\n",
      "\n",
      "During handling of the above exception, another exception occurred:\n",
      "\n",
      "\u001b[36mray::_ray_fit()\u001b[39m (pid=2257214, ip=172.17.0.2)\n",
      "  File \"/root/anaconda3/lib/python3.8/site-packages/autogluon/core/models/ensemble/fold_fitting_strategy.py\", line 374, in _ray_fit\n",
      "    fold_model.fit(X=X_fold, y=y_fold, X_val=X_val_fold, y_val=y_val_fold,\n",
      "  File \"/root/anaconda3/lib/python3.8/site-packages/autogluon/core/models/abstract/abstract_model.py\", line 703, in fit\n",
      "    out = self._fit(**kwargs)\n",
      "  File \"/root/anaconda3/lib/python3.8/site-packages/autogluon/tabular/models/fastainn/tabular_nn_fastai.py\", line 191, in _fit\n",
      "    try_import_fastai()\n",
      "  File \"/root/anaconda3/lib/python3.8/site-packages/autogluon/core/utils/try_import.py\", line 196, in try_import_fastai\n",
      "    import autogluon.tabular.models.fastainn.imports_helper\n",
      "  File \"/root/anaconda3/lib/python3.8/site-packages/autogluon/tabular/models/fastainn/imports_helper.py\", line 1, in <module>\n",
      "    from fastai.tabular.all import *\n",
      "  File \"/root/anaconda3/lib/python3.8/site-packages/fastai/tabular/all.py\", line 1, in <module>\n",
      "    from ..basics import *\n",
      "  File \"/root/anaconda3/lib/python3.8/site-packages/fastai/basics.py\", line 1, in <module>\n",
      "    from .data.all import *\n",
      "  File \"/root/anaconda3/lib/python3.8/site-packages/fastai/data/all.py\", line 1, in <module>\n",
      "    from ..torch_basics import *\n",
      "  File \"/root/anaconda3/lib/python3.8/site-packages/fastai/torch_basics.py\", line 1, in <module>\n",
      "    from torch import multiprocessing\n",
      "  File \"/root/anaconda3/lib/python3.8/site-packages/torch/__init__.py\", line 217, in <module>\n",
      "    _load_global_deps()\n",
      "  File \"/root/anaconda3/lib/python3.8/site-packages/torch/__init__.py\", line 178, in _load_global_deps\n",
      "    _preload_cuda_deps()\n",
      "  File \"/root/anaconda3/lib/python3.8/site-packages/torch/__init__.py\", line 158, in _preload_cuda_deps\n",
      "    ctypes.CDLL(cublas_path)\n",
      "  File \"/root/anaconda3/lib/python3.8/ctypes/__init__.py\", line 381, in __init__\n",
      "    self._handle = _dlopen(self._name, mode)\n",
      "OSError: /root/anaconda3/lib/python3.8/site-packages/nvidia/cublas/lib/libcublas.so.11: undefined symbol: cublasLtGetStatusString, version libcublasLt.so.11\n",
      "Detailed Traceback:\n",
      "Traceback (most recent call last):\n",
      "  File \"/root/anaconda3/lib/python3.8/site-packages/autogluon/core/trainer/abstract_trainer.py\", line 1502, in _train_and_save\n",
      "    model = self._train_single(X, y, model, X_val, y_val, total_resources=total_resources, **model_fit_kwargs)\n",
      "  File \"/root/anaconda3/lib/python3.8/site-packages/autogluon/core/trainer/abstract_trainer.py\", line 1447, in _train_single\n",
      "    model = model.fit(X=X, y=y, X_val=X_val, y_val=y_val, total_resources=total_resources, **model_fit_kwargs)\n",
      "  File \"/root/anaconda3/lib/python3.8/site-packages/autogluon/core/models/abstract/abstract_model.py\", line 703, in fit\n",
      "    out = self._fit(**kwargs)\n",
      "  File \"/root/anaconda3/lib/python3.8/site-packages/autogluon/core/models/ensemble/stacker_ensemble_model.py\", line 154, in _fit\n",
      "    return super()._fit(X=X, y=y, time_limit=time_limit, **kwargs)\n",
      "  File \"/root/anaconda3/lib/python3.8/site-packages/autogluon/core/models/ensemble/bagged_ensemble_model.py\", line 248, in _fit\n",
      "    self._fit_folds(X=X, y=y, model_base=model_base, X_pseudo=X_pseudo, y_pseudo=y_pseudo,\n",
      "  File \"/root/anaconda3/lib/python3.8/site-packages/autogluon/core/models/ensemble/bagged_ensemble_model.py\", line 540, in _fit_folds\n",
      "    fold_fitting_strategy.after_all_folds_scheduled()\n",
      "  File \"/root/anaconda3/lib/python3.8/site-packages/autogluon/core/models/ensemble/fold_fitting_strategy.py\", line 537, in after_all_folds_scheduled\n",
      "    raise processed_exception\n",
      "  File \"/root/anaconda3/lib/python3.8/site-packages/autogluon/core/models/ensemble/fold_fitting_strategy.py\", line 505, in after_all_folds_scheduled\n",
      "    time_end_fit, predict_time, predict_1_time = self.ray.get(finished)\n",
      "  File \"/root/anaconda3/lib/python3.8/site-packages/ray/_private/client_mode_hook.py\", line 105, in wrapper\n",
      "    return func(*args, **kwargs)\n",
      "  File \"/root/anaconda3/lib/python3.8/site-packages/ray/_private/worker.py\", line 2309, in get\n",
      "    raise value.as_instanceof_cause()\n",
      "ray.exceptions.RayTaskError(OSError): \u001b[36mray::_ray_fit()\u001b[39m (pid=2257214, ip=172.17.0.2)\n",
      "  File \"/root/anaconda3/lib/python3.8/ctypes/__init__.py\", line 381, in __init__\n",
      "    self._handle = _dlopen(self._name, mode)\n",
      "OSError: /root/anaconda3/lib/python3.8/site-packages/torch/lib/../../nvidia/cublas/lib/libcublas.so.11: undefined symbol: cublasLtGetStatusString, version libcublasLt.so.11\n",
      "\n",
      "During handling of the above exception, another exception occurred:\n",
      "\n",
      "\u001b[36mray::_ray_fit()\u001b[39m (pid=2257214, ip=172.17.0.2)\n",
      "  File \"/root/anaconda3/lib/python3.8/site-packages/autogluon/core/models/ensemble/fold_fitting_strategy.py\", line 374, in _ray_fit\n",
      "    fold_model.fit(X=X_fold, y=y_fold, X_val=X_val_fold, y_val=y_val_fold,\n",
      "  File \"/root/anaconda3/lib/python3.8/site-packages/autogluon/core/models/abstract/abstract_model.py\", line 703, in fit\n",
      "    out = self._fit(**kwargs)\n",
      "  File \"/root/anaconda3/lib/python3.8/site-packages/autogluon/tabular/models/fastainn/tabular_nn_fastai.py\", line 191, in _fit\n",
      "    try_import_fastai()\n",
      "  File \"/root/anaconda3/lib/python3.8/site-packages/autogluon/core/utils/try_import.py\", line 196, in try_import_fastai\n",
      "    import autogluon.tabular.models.fastainn.imports_helper\n",
      "  File \"/root/anaconda3/lib/python3.8/site-packages/autogluon/tabular/models/fastainn/imports_helper.py\", line 1, in <module>\n",
      "    from fastai.tabular.all import *\n",
      "  File \"/root/anaconda3/lib/python3.8/site-packages/fastai/tabular/all.py\", line 1, in <module>\n",
      "    from ..basics import *\n",
      "  File \"/root/anaconda3/lib/python3.8/site-packages/fastai/basics.py\", line 1, in <module>\n",
      "    from .data.all import *\n",
      "  File \"/root/anaconda3/lib/python3.8/site-packages/fastai/data/all.py\", line 1, in <module>\n",
      "    from ..torch_basics import *\n",
      "  File \"/root/anaconda3/lib/python3.8/site-packages/fastai/torch_basics.py\", line 1, in <module>\n",
      "    from torch import multiprocessing\n",
      "  File \"/root/anaconda3/lib/python3.8/site-packages/torch/__init__.py\", line 217, in <module>\n",
      "    _load_global_deps()\n",
      "  File \"/root/anaconda3/lib/python3.8/site-packages/torch/__init__.py\", line 178, in _load_global_deps\n",
      "    _preload_cuda_deps()\n",
      "  File \"/root/anaconda3/lib/python3.8/site-packages/torch/__init__.py\", line 158, in _preload_cuda_deps\n",
      "    ctypes.CDLL(cublas_path)\n",
      "  File \"/root/anaconda3/lib/python3.8/ctypes/__init__.py\", line 381, in __init__\n",
      "    self._handle = _dlopen(self._name, mode)\n",
      "OSError: /root/anaconda3/lib/python3.8/site-packages/nvidia/cublas/lib/libcublas.so.11: undefined symbol: cublasLtGetStatusString, version libcublasLt.so.11\n"
     ]
    },
    {
     "name": "stderr",
     "output_type": "stream",
     "text": [
      "Fitting model: XGBoost_BAG_L2 ...\n",
      "\tFitting 8 child models (S1F1 - S1F8) | Fitting with ParallelLocalFoldFittingStrategy\n",
      "2023-07-20 01:37:10,285\tERROR worker.py:400 -- Unhandled error (suppress with 'RAY_IGNORE_UNHANDLED_ERRORS=1'): The worker died unexpectedly while executing this task. Check python-core-worker-*.log files for more information.\n",
      "2023-07-20 01:37:10,287\tERROR worker.py:400 -- Unhandled error (suppress with 'RAY_IGNORE_UNHANDLED_ERRORS=1'): The worker died unexpectedly while executing this task. Check python-core-worker-*.log files for more information.\n",
      "2023-07-20 01:37:10,288\tERROR worker.py:400 -- Unhandled error (suppress with 'RAY_IGNORE_UNHANDLED_ERRORS=1'): The worker died unexpectedly while executing this task. Check python-core-worker-*.log files for more information.\n",
      "2023-07-20 01:37:10,290\tERROR worker.py:400 -- Unhandled error (suppress with 'RAY_IGNORE_UNHANDLED_ERRORS=1'): The worker died unexpectedly while executing this task. Check python-core-worker-*.log files for more information.\n",
      "2023-07-20 01:37:10,292\tERROR worker.py:400 -- Unhandled error (suppress with 'RAY_IGNORE_UNHANDLED_ERRORS=1'): The worker died unexpectedly while executing this task. Check python-core-worker-*.log files for more information.\n",
      "2023-07-20 01:37:10,293\tERROR worker.py:400 -- Unhandled error (suppress with 'RAY_IGNORE_UNHANDLED_ERRORS=1'): The worker died unexpectedly while executing this task. Check python-core-worker-*.log files for more information.\n",
      "2023-07-20 01:37:10,294\tERROR worker.py:400 -- Unhandled error (suppress with 'RAY_IGNORE_UNHANDLED_ERRORS=1'): The worker died unexpectedly while executing this task. Check python-core-worker-*.log files for more information.\n",
      "\t-0.2598\t = Validation score   (-mean_squared_error)\n",
      "\t1.89s\t = Training   runtime\n",
      "\t0.2s\t = Validation runtime\n",
      "Fitting model: NeuralNetTorch_BAG_L2 ...\n",
      "\tFitting 8 child models (S1F1 - S1F8) | Fitting with ParallelLocalFoldFittingStrategy\n",
      "\tWarning: Exception caused NeuralNetTorch_BAG_L2 to fail during training... Skipping this model.\n",
      "\t\t\u001b[36mray::_ray_fit()\u001b[39m (pid=2259362, ip=172.17.0.2)\n",
      "  File \"/root/anaconda3/lib/python3.8/ctypes/__init__.py\", line 381, in __init__\n",
      "    self._handle = _dlopen(self._name, mode)\n",
      "OSError: /root/anaconda3/lib/python3.8/site-packages/torch/lib/../../nvidia/cublas/lib/libcublas.so.11: undefined symbol: cublasLtGetStatusString, version libcublasLt.so.11\n",
      "\n",
      "During handling of the above exception, another exception occurred:\n",
      "\n",
      "\u001b[36mray::_ray_fit()\u001b[39m (pid=2259362, ip=172.17.0.2)\n",
      "  File \"/root/anaconda3/lib/python3.8/site-packages/autogluon/core/models/ensemble/fold_fitting_strategy.py\", line 374, in _ray_fit\n",
      "    fold_model.fit(X=X_fold, y=y_fold, X_val=X_val_fold, y_val=y_val_fold,\n",
      "  File \"/root/anaconda3/lib/python3.8/site-packages/autogluon/core/models/abstract/abstract_model.py\", line 703, in fit\n",
      "    out = self._fit(**kwargs)\n",
      "  File \"/root/anaconda3/lib/python3.8/site-packages/autogluon/tabular/models/tabular_nn/torch/tabular_nn_torch.py\", line 143, in _fit\n",
      "    try_import_torch()\n",
      "  File \"/root/anaconda3/lib/python3.8/site-packages/autogluon/core/utils/try_import.py\", line 204, in try_import_torch\n",
      "    import torch\n",
      "  File \"/root/anaconda3/lib/python3.8/site-packages/torch/__init__.py\", line 217, in <module>\n",
      "    _load_global_deps()\n",
      "  File \"/root/anaconda3/lib/python3.8/site-packages/torch/__init__.py\", line 178, in _load_global_deps\n",
      "    _preload_cuda_deps()\n",
      "  File \"/root/anaconda3/lib/python3.8/site-packages/torch/__init__.py\", line 158, in _preload_cuda_deps\n",
      "    ctypes.CDLL(cublas_path)\n",
      "  File \"/root/anaconda3/lib/python3.8/ctypes/__init__.py\", line 381, in __init__\n",
      "    self._handle = _dlopen(self._name, mode)\n",
      "OSError: /root/anaconda3/lib/python3.8/site-packages/nvidia/cublas/lib/libcublas.so.11: undefined symbol: cublasLtGetStatusString, version libcublasLt.so.11\n",
      "Detailed Traceback:\n",
      "Traceback (most recent call last):\n",
      "  File \"/root/anaconda3/lib/python3.8/site-packages/autogluon/core/trainer/abstract_trainer.py\", line 1502, in _train_and_save\n",
      "    model = self._train_single(X, y, model, X_val, y_val, total_resources=total_resources, **model_fit_kwargs)\n",
      "  File \"/root/anaconda3/lib/python3.8/site-packages/autogluon/core/trainer/abstract_trainer.py\", line 1447, in _train_single\n",
      "    model = model.fit(X=X, y=y, X_val=X_val, y_val=y_val, total_resources=total_resources, **model_fit_kwargs)\n",
      "  File \"/root/anaconda3/lib/python3.8/site-packages/autogluon/core/models/abstract/abstract_model.py\", line 703, in fit\n",
      "    out = self._fit(**kwargs)\n",
      "  File \"/root/anaconda3/lib/python3.8/site-packages/autogluon/core/models/ensemble/stacker_ensemble_model.py\", line 154, in _fit\n",
      "    return super()._fit(X=X, y=y, time_limit=time_limit, **kwargs)\n",
      "  File \"/root/anaconda3/lib/python3.8/site-packages/autogluon/core/models/ensemble/bagged_ensemble_model.py\", line 248, in _fit\n",
      "    self._fit_folds(X=X, y=y, model_base=model_base, X_pseudo=X_pseudo, y_pseudo=y_pseudo,\n",
      "  File \"/root/anaconda3/lib/python3.8/site-packages/autogluon/core/models/ensemble/bagged_ensemble_model.py\", line 540, in _fit_folds\n",
      "    fold_fitting_strategy.after_all_folds_scheduled()\n",
      "  File \"/root/anaconda3/lib/python3.8/site-packages/autogluon/core/models/ensemble/fold_fitting_strategy.py\", line 537, in after_all_folds_scheduled\n",
      "    raise processed_exception\n",
      "  File \"/root/anaconda3/lib/python3.8/site-packages/autogluon/core/models/ensemble/fold_fitting_strategy.py\", line 505, in after_all_folds_scheduled\n",
      "    time_end_fit, predict_time, predict_1_time = self.ray.get(finished)\n",
      "  File \"/root/anaconda3/lib/python3.8/site-packages/ray/_private/client_mode_hook.py\", line 105, in wrapper\n",
      "    return func(*args, **kwargs)\n",
      "  File \"/root/anaconda3/lib/python3.8/site-packages/ray/_private/worker.py\", line 2309, in get\n",
      "    raise value.as_instanceof_cause()\n",
      "ray.exceptions.RayTaskError(OSError): \u001b[36mray::_ray_fit()\u001b[39m (pid=2259362, ip=172.17.0.2)\n",
      "  File \"/root/anaconda3/lib/python3.8/ctypes/__init__.py\", line 381, in __init__\n",
      "    self._handle = _dlopen(self._name, mode)\n",
      "OSError: /root/anaconda3/lib/python3.8/site-packages/torch/lib/../../nvidia/cublas/lib/libcublas.so.11: undefined symbol: cublasLtGetStatusString, version libcublasLt.so.11\n",
      "\n",
      "During handling of the above exception, another exception occurred:\n",
      "\n",
      "\u001b[36mray::_ray_fit()\u001b[39m (pid=2259362, ip=172.17.0.2)\n",
      "  File \"/root/anaconda3/lib/python3.8/site-packages/autogluon/core/models/ensemble/fold_fitting_strategy.py\", line 374, in _ray_fit\n",
      "    fold_model.fit(X=X_fold, y=y_fold, X_val=X_val_fold, y_val=y_val_fold,\n",
      "  File \"/root/anaconda3/lib/python3.8/site-packages/autogluon/core/models/abstract/abstract_model.py\", line 703, in fit\n",
      "    out = self._fit(**kwargs)\n",
      "  File \"/root/anaconda3/lib/python3.8/site-packages/autogluon/tabular/models/tabular_nn/torch/tabular_nn_torch.py\", line 143, in _fit\n",
      "    try_import_torch()\n",
      "  File \"/root/anaconda3/lib/python3.8/site-packages/autogluon/core/utils/try_import.py\", line 204, in try_import_torch\n",
      "    import torch\n",
      "  File \"/root/anaconda3/lib/python3.8/site-packages/torch/__init__.py\", line 217, in <module>\n",
      "    _load_global_deps()\n",
      "  File \"/root/anaconda3/lib/python3.8/site-packages/torch/__init__.py\", line 178, in _load_global_deps\n",
      "    _preload_cuda_deps()\n",
      "  File \"/root/anaconda3/lib/python3.8/site-packages/torch/__init__.py\", line 158, in _preload_cuda_deps\n",
      "    ctypes.CDLL(cublas_path)\n",
      "  File \"/root/anaconda3/lib/python3.8/ctypes/__init__.py\", line 381, in __init__\n",
      "    self._handle = _dlopen(self._name, mode)\n",
      "OSError: /root/anaconda3/lib/python3.8/site-packages/nvidia/cublas/lib/libcublas.so.11: undefined symbol: cublasLtGetStatusString, version libcublasLt.so.11\n",
      "Fitting model: LightGBMLarge_BAG_L2 ...\n",
      "\tFitting 8 child models (S1F1 - S1F8) | Fitting with ParallelLocalFoldFittingStrategy\n",
      "2023-07-20 01:37:21,297\tERROR worker.py:400 -- Unhandled error (suppress with 'RAY_IGNORE_UNHANDLED_ERRORS=1'): The worker died unexpectedly while executing this task. Check python-core-worker-*.log files for more information.\n",
      "2023-07-20 01:37:21,302\tERROR worker.py:400 -- Unhandled error (suppress with 'RAY_IGNORE_UNHANDLED_ERRORS=1'): The worker died unexpectedly while executing this task. Check python-core-worker-*.log files for more information.\n"
     ]
    },
    {
     "name": "stderr",
     "output_type": "stream",
     "text": [
      "2023-07-20 01:37:21,304\tERROR worker.py:400 -- Unhandled error (suppress with 'RAY_IGNORE_UNHANDLED_ERRORS=1'): The worker died unexpectedly while executing this task. Check python-core-worker-*.log files for more information.\n",
      "2023-07-20 01:37:21,305\tERROR worker.py:400 -- Unhandled error (suppress with 'RAY_IGNORE_UNHANDLED_ERRORS=1'): The worker died unexpectedly while executing this task. Check python-core-worker-*.log files for more information.\n",
      "2023-07-20 01:37:21,307\tERROR worker.py:400 -- Unhandled error (suppress with 'RAY_IGNORE_UNHANDLED_ERRORS=1'): The worker died unexpectedly while executing this task. Check python-core-worker-*.log files for more information.\n",
      "2023-07-20 01:37:21,308\tERROR worker.py:400 -- Unhandled error (suppress with 'RAY_IGNORE_UNHANDLED_ERRORS=1'): The worker died unexpectedly while executing this task. Check python-core-worker-*.log files for more information.\n",
      "2023-07-20 01:37:21,309\tERROR worker.py:400 -- Unhandled error (suppress with 'RAY_IGNORE_UNHANDLED_ERRORS=1'): The worker died unexpectedly while executing this task. Check python-core-worker-*.log files for more information.\n",
      "\t-0.2597\t = Validation score   (-mean_squared_error)\n",
      "\t5.96s\t = Training   runtime\n",
      "\t0.21s\t = Validation runtime\n",
      "Fitting model: WeightedEnsemble_L3 ...\n",
      "\t-0.2554\t = Validation score   (-mean_squared_error)\n",
      "\t0.64s\t = Training   runtime\n",
      "\t0.0s\t = Validation runtime\n",
      "AutoGluon training complete, total runtime = 650.64s ... Best model: \"WeightedEnsemble_L3\"\n",
      "TabularPredictor saved. To load, use: predictor = TabularPredictor.load(\"AutogluonModels/ag-20230720_012636/\")\n"
     ]
    }
   ],
   "source": [
    "from autogluon.tabular import TabularPredictor, TabularDataset\n",
    "\n",
    "# Normalization\n",
    "scaler = StandardScaler()\n",
    "train_x_scaled = scaler.fit_transform(train_x)\n",
    "test_x_scaled = scaler.transform(test_x)\n",
    "\n",
    "# Define Dataset\n",
    "train_df = pd.DataFrame(train_x_scaled)\n",
    "train_df['TARGET'] = train_y\n",
    "\n",
    "# autogluon \n",
    "predictor = TabularPredictor(label='TARGET', eval_metric='mse', problem_type='regression').fit(train_data=train_df, presets=['best_quality'])"
   ]
  },
  {
   "cell_type": "code",
   "execution_count": 45,
   "id": "0c46c90d",
   "metadata": {},
   "outputs": [
    {
     "name": "stderr",
     "output_type": "stream",
     "text": [
      "<frozen importlib._bootstrap>:219: RuntimeWarning: numpy.ufunc size changed, may indicate binary incompatibility. Expected 216 from C header, got 232 from PyObject\n"
     ]
    }
   ],
   "source": [
    "# Prediction\n",
    "test_df = pd.DataFrame(test_x_scaled)\n",
    "preds = predictor.predict(test_df) "
   ]
  },
  {
   "cell_type": "code",
   "execution_count": 46,
   "id": "1e44b2a1",
   "metadata": {},
   "outputs": [
    {
     "data": {
      "text/plain": [
       "0        1.957653\n",
       "1        1.172094\n",
       "2        2.051428\n",
       "3        1.137925\n",
       "4        1.228405\n",
       "           ...   \n",
       "15673    4.633889\n",
       "15674    2.137432\n",
       "15675    1.159498\n",
       "15676    1.976796\n",
       "15677    0.745534\n",
       "Name: TARGET, Length: 15678, dtype: float32"
      ]
     },
     "execution_count": 46,
     "metadata": {},
     "output_type": "execute_result"
    }
   ],
   "source": [
    "preds"
   ]
  },
  {
   "cell_type": "code",
   "execution_count": 47,
   "id": "fe40a336",
   "metadata": {},
   "outputs": [
    {
     "data": {
      "text/html": [
       "<div>\n",
       "<style scoped>\n",
       "    .dataframe tbody tr th:only-of-type {\n",
       "        vertical-align: middle;\n",
       "    }\n",
       "\n",
       "    .dataframe tbody tr th {\n",
       "        vertical-align: top;\n",
       "    }\n",
       "\n",
       "    .dataframe thead th {\n",
       "        text-align: right;\n",
       "    }\n",
       "</style>\n",
       "<table border=\"1\" class=\"dataframe\">\n",
       "  <thead>\n",
       "    <tr style=\"text-align: right;\">\n",
       "      <th></th>\n",
       "      <th>ID</th>\n",
       "      <th>풍속 (m/s)</th>\n",
       "    </tr>\n",
       "  </thead>\n",
       "  <tbody>\n",
       "    <tr>\n",
       "      <th>0</th>\n",
       "      <td>TEST_00000</td>\n",
       "      <td>1.957653</td>\n",
       "    </tr>\n",
       "    <tr>\n",
       "      <th>1</th>\n",
       "      <td>TEST_00001</td>\n",
       "      <td>1.172094</td>\n",
       "    </tr>\n",
       "    <tr>\n",
       "      <th>2</th>\n",
       "      <td>TEST_00002</td>\n",
       "      <td>2.051428</td>\n",
       "    </tr>\n",
       "    <tr>\n",
       "      <th>3</th>\n",
       "      <td>TEST_00003</td>\n",
       "      <td>1.137925</td>\n",
       "    </tr>\n",
       "    <tr>\n",
       "      <th>4</th>\n",
       "      <td>TEST_00004</td>\n",
       "      <td>1.228405</td>\n",
       "    </tr>\n",
       "  </tbody>\n",
       "</table>\n",
       "</div>"
      ],
      "text/plain": [
       "           ID  풍속 (m/s)\n",
       "0  TEST_00000  1.957653\n",
       "1  TEST_00001  1.172094\n",
       "2  TEST_00002  2.051428\n",
       "3  TEST_00003  1.137925\n",
       "4  TEST_00004  1.228405"
      ]
     },
     "execution_count": 47,
     "metadata": {},
     "output_type": "execute_result"
    }
   ],
   "source": [
    "submission['풍속 (m/s)'] = preds\n",
    "submission.head()"
   ]
  },
  {
   "cell_type": "code",
   "execution_count": 48,
   "id": "de3d6f3a",
   "metadata": {},
   "outputs": [],
   "source": [
    "submission.to_csv('./submission_windspeed_0720_2.csv', index=False)"
   ]
  },
  {
   "cell_type": "code",
   "execution_count": null,
   "id": "94dbdc4c",
   "metadata": {},
   "outputs": [],
   "source": []
  }
 ],
 "metadata": {
  "kernelspec": {
   "display_name": "Python 3",
   "language": "python",
   "name": "python3"
  },
  "language_info": {
   "codemirror_mode": {
    "name": "ipython",
    "version": 3
   },
   "file_extension": ".py",
   "mimetype": "text/x-python",
   "name": "python",
   "nbconvert_exporter": "python",
   "pygments_lexer": "ipython3",
   "version": "3.8.8"
  }
 },
 "nbformat": 4,
 "nbformat_minor": 5
}
