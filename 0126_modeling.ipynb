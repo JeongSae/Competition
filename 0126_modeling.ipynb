{
 "cells": [
  {
   "cell_type": "code",
   "execution_count": 1,
   "id": "0b7142f4",
   "metadata": {},
   "outputs": [],
   "source": [
    "import tensorflow as tf\n",
    "import numpy as np\n",
    "import pandas as pd\n",
    "import os\n",
    "from tqdm import tqdm\n",
    "import time\n",
    "from tensorflow import keras"
   ]
  },
  {
   "cell_type": "code",
   "execution_count": 2,
   "id": "11661758",
   "metadata": {},
   "outputs": [
    {
     "data": {
      "text/plain": [
       "'2.4.0'"
      ]
     },
     "execution_count": 2,
     "metadata": {},
     "output_type": "execute_result"
    }
   ],
   "source": [
    "tf.__version__"
   ]
  },
  {
   "cell_type": "markdown",
   "id": "f945f42e",
   "metadata": {},
   "source": [
    "# full data modeling"
   ]
  },
  {
   "cell_type": "code",
   "execution_count": 3,
   "id": "6f3c8d38",
   "metadata": {
    "scrolled": true
   },
   "outputs": [],
   "source": [
    "# X_train, y_train = np.load('./pre_data/X_train_0801.npy'), np.load('./pre_data/y_train_0801.npy')\n",
    "# X_valid, y_valid = np.load('./pre_data/X_valid_0801.npy'), np.load('./pre_data/y_valid_0801.npy')\n",
    "# X_test, y_test = np.load('./pre_data/X_test_0801.npy'), np.load('./pre_data/y_test_0801.npy')\n",
    "\n",
    "X_train, y_train = np.load('./pre_data/X_train_0714.npy'), np.load('./pre_data/y_train_0714.npy')\n",
    "X_valid, y_valid = np.load('./pre_data/X_valid_0714.npy'), np.load('./pre_data/y_valid_0714.npy')\n",
    "X_test, y_test = np.load('./pre_data/X_test_0714.npy'), np.load('./pre_data/y_test_0714.npy')"
   ]
  },
  {
   "cell_type": "code",
   "execution_count": 4,
   "id": "passive-native",
   "metadata": {},
   "outputs": [
    {
     "name": "stdout",
     "output_type": "stream",
     "text": [
      "X_train shape :  (35000, 6000, 10) X_valid shape :  (10000, 6000, 10) X_test shape :  (5000, 6000, 10)\n",
      "y_train shape :  (35000,) y_valid shape :  (10000,) y_test shape :  (5000,)\n"
     ]
    }
   ],
   "source": [
    "print('X_train shape : ', X_train.shape, 'X_valid shape : ', X_valid.shape, 'X_test shape : ', X_test.shape)\n",
    "print('y_train shape : ', y_train.shape, 'y_valid shape : ', y_valid.shape, 'y_test shape : ', y_test.shape)"
   ]
  },
  {
   "cell_type": "markdown",
   "id": "pacific-hollywood",
   "metadata": {},
   "source": [
    "# optional"
   ]
  },
  {
   "cell_type": "code",
   "execution_count": 5,
   "id": "consolidated-bulgaria",
   "metadata": {},
   "outputs": [],
   "source": [
    "X_train, X_valid, X_test = X_train[:, ::2], X_valid[:, ::2], X_test[:, ::2]"
   ]
  },
  {
   "cell_type": "code",
   "execution_count": 6,
   "id": "c0423f68",
   "metadata": {},
   "outputs": [],
   "source": [
    "X_train, X_valid, X_test = np.concatenate([X_train[:, :, :1], X_train[:, :, 4:]], axis=-1),\\\n",
    "                           np.concatenate([X_valid[:, :, :1], X_valid[:, :, 4:]], axis=-1),\\\n",
    "                           np.concatenate([X_test[:, :, :1], X_test[:, :, 4:]], axis=-1)"
   ]
  },
  {
   "cell_type": "code",
   "execution_count": 7,
   "id": "level-convention",
   "metadata": {},
   "outputs": [
    {
     "name": "stdout",
     "output_type": "stream",
     "text": [
      "X_train shape :  (35000, 3000, 7) X_valid shape :  (10000, 3000, 7) X_test shape :  (5000, 3000, 7)\n",
      "y_train shape :  (35000,) y_valid shape :  (10000,) y_test shape :  (5000,)\n"
     ]
    }
   ],
   "source": [
    "print('X_train shape : ', X_train.shape, 'X_valid shape : ', X_valid.shape, 'X_test shape : ', X_test.shape)\n",
    "print('y_train shape : ', y_train.shape, 'y_valid shape : ', y_valid.shape, 'y_test shape : ', y_test.shape)"
   ]
  },
  {
   "cell_type": "markdown",
   "id": "ce8bfe36",
   "metadata": {},
   "source": [
    "# class weight"
   ]
  },
  {
   "cell_type": "code",
   "execution_count": 8,
   "id": "9c47577f",
   "metadata": {},
   "outputs": [],
   "source": [
    "from sklearn.utils.class_weight import compute_class_weight\n",
    "\n",
    "class_w = compute_class_weight(class_weight = \"balanced\", \n",
    "                     classes=np.unique(y_train), \n",
    "                     y = y_train)\n",
    "\n",
    "cls_weight = {}\n",
    "\n",
    "for i, w in enumerate(class_w):\n",
    "    cls_weight[i] = w"
   ]
  },
  {
   "cell_type": "code",
   "execution_count": 9,
   "id": "aa05243d",
   "metadata": {},
   "outputs": [
    {
     "data": {
      "text/plain": [
       "{0: 0.8455127430849136,\n",
       " 1: 1.6826923076923077,\n",
       " 2: 0.4006868918145392,\n",
       " 3: 9.333333333333334,\n",
       " 4: 1.612531674729325}"
      ]
     },
     "execution_count": 9,
     "metadata": {},
     "output_type": "execute_result"
    }
   ],
   "source": [
    "cls_weight"
   ]
  },
  {
   "cell_type": "markdown",
   "id": "f9adc0f0",
   "metadata": {},
   "source": [
    "# modeling"
   ]
  },
  {
   "cell_type": "code",
   "execution_count": 10,
   "id": "eight-offering",
   "metadata": {},
   "outputs": [],
   "source": [
    "gpus = tf.config.experimental.list_physical_devices('GPU')\n",
    "\n",
    "if gpus:\n",
    "    try:\n",
    "        tf.config.experimental.set_visible_devices(gpus[1], 'GPU')\n",
    "        tf.config.experimental.set_memory_growth(gpus[1], True)\n",
    "    except RuntimeError as e:\n",
    "        # 프로그램 시작시에 메모리 증가가 설정되어야만 합니다\n",
    "        print(e)"
   ]
  },
  {
   "cell_type": "code",
   "execution_count": 11,
   "id": "4e04eb6e",
   "metadata": {
    "scrolled": true
   },
   "outputs": [
    {
     "name": "stdout",
     "output_type": "stream",
     "text": [
      "Epoch 1/1000\n",
      "547/547 [==============================] - 124s 204ms/step - loss: 2.0278 - val_loss: 1.7370\n",
      "Epoch 2/1000\n",
      "547/547 [==============================] - 175s 320ms/step - loss: 1.7232 - val_loss: 1.6702\n",
      "Epoch 3/1000\n",
      "547/547 [==============================] - 172s 315ms/step - loss: 1.6545 - val_loss: 1.6320\n",
      "Epoch 4/1000\n",
      "547/547 [==============================] - 174s 318ms/step - loss: 1.6427 - val_loss: 1.6230\n",
      "Epoch 5/1000\n",
      "547/547 [==============================] - 169s 309ms/step - loss: 1.6163 - val_loss: 1.6210\n",
      "Epoch 6/1000\n",
      "547/547 [==============================] - 251s 459ms/step - loss: 1.6129 - val_loss: 1.6131\n",
      "Epoch 7/1000\n",
      "547/547 [==============================] - 293s 536ms/step - loss: 1.6081 - val_loss: 1.6117\n",
      "Epoch 8/1000\n",
      "547/547 [==============================] - 296s 540ms/step - loss: 1.6137 - val_loss: 1.6064\n",
      "Epoch 9/1000\n",
      "547/547 [==============================] - 295s 539ms/step - loss: 1.6153 - val_loss: 1.6151\n",
      "Epoch 10/1000\n",
      "547/547 [==============================] - 294s 538ms/step - loss: 1.5935 - val_loss: 1.6124\n",
      "Epoch 11/1000\n",
      "547/547 [==============================] - 295s 539ms/step - loss: 1.6129 - val_loss: 1.6109\n",
      "Epoch 12/1000\n",
      "547/547 [==============================] - 298s 545ms/step - loss: 1.6224 - val_loss: 1.6091\n",
      "Epoch 13/1000\n",
      "547/547 [==============================] - 299s 546ms/step - loss: 1.6114 - val_loss: 1.6093\n",
      "Epoch 14/1000\n",
      "547/547 [==============================] - 300s 548ms/step - loss: 1.5890 - val_loss: 1.6125\n",
      "Epoch 15/1000\n",
      "547/547 [==============================] - 297s 543ms/step - loss: 1.6161 - val_loss: 1.6074\n",
      "Epoch 16/1000\n",
      "547/547 [==============================] - 297s 543ms/step - loss: 1.6007 - val_loss: 1.6108\n",
      "Epoch 17/1000\n",
      "547/547 [==============================] - 297s 544ms/step - loss: 1.5921 - val_loss: 1.6117\n",
      "Epoch 18/1000\n",
      "547/547 [==============================] - 294s 537ms/step - loss: 1.6235 - val_loss: 1.6089\n",
      "Epoch 19/1000\n",
      "547/547 [==============================] - 296s 541ms/step - loss: 1.5996 - val_loss: 1.6108\n",
      "Epoch 20/1000\n",
      "547/547 [==============================] - 298s 544ms/step - loss: 1.5969 - val_loss: 1.6105\n",
      "Epoch 21/1000\n",
      "547/547 [==============================] - 297s 543ms/step - loss: 1.6189 - val_loss: 1.6022\n",
      "Epoch 22/1000\n",
      "547/547 [==============================] - 298s 545ms/step - loss: 1.6139 - val_loss: 1.6125\n",
      "Epoch 23/1000\n",
      "547/547 [==============================] - 299s 547ms/step - loss: 1.6166 - val_loss: 1.6119\n",
      "Epoch 24/1000\n",
      "547/547 [==============================] - 298s 544ms/step - loss: 1.6062 - val_loss: 1.6128\n",
      "Epoch 25/1000\n",
      "547/547 [==============================] - 298s 545ms/step - loss: 1.6129 - val_loss: 1.6105\n",
      "Epoch 26/1000\n",
      "547/547 [==============================] - 297s 543ms/step - loss: 1.6247 - val_loss: 1.6092\n",
      "Epoch 27/1000\n",
      "547/547 [==============================] - 297s 544ms/step - loss: 1.6255 - val_loss: 1.6091\n",
      "Epoch 28/1000\n",
      "547/547 [==============================] - 298s 544ms/step - loss: 1.6347 - val_loss: 1.6075\n",
      "Epoch 29/1000\n",
      "547/547 [==============================] - 298s 544ms/step - loss: 1.6047 - val_loss: 1.6104\n",
      "Epoch 30/1000\n",
      "547/547 [==============================] - 299s 546ms/step - loss: 1.5922 - val_loss: 1.6111\n",
      "Epoch 31/1000\n",
      "547/547 [==============================] - 299s 547ms/step - loss: 1.6206 - val_loss: 1.6105\n",
      "Epoch 32/1000\n",
      "547/547 [==============================] - 298s 546ms/step - loss: 1.6164 - val_loss: 1.6090\n",
      "Epoch 33/1000\n",
      "547/547 [==============================] - 298s 544ms/step - loss: 1.6001 - val_loss: 1.6094\n",
      "Epoch 34/1000\n",
      "547/547 [==============================] - 299s 546ms/step - loss: 1.6259 - val_loss: 1.6073\n",
      "Epoch 35/1000\n",
      "547/547 [==============================] - 298s 545ms/step - loss: 1.6027 - val_loss: 1.6094\n",
      "Epoch 36/1000\n",
      "547/547 [==============================] - 299s 546ms/step - loss: 1.6114 - val_loss: 1.6091\n",
      "Epoch 37/1000\n",
      "547/547 [==============================] - 299s 546ms/step - loss: 1.6082 - val_loss: 1.6093\n",
      "Epoch 38/1000\n",
      "547/547 [==============================] - 300s 548ms/step - loss: 1.6236 - val_loss: 1.6088\n",
      "Epoch 39/1000\n",
      "547/547 [==============================] - 300s 549ms/step - loss: 1.6230 - val_loss: 1.6083\n",
      "Epoch 40/1000\n",
      "547/547 [==============================] - 298s 544ms/step - loss: 1.6029 - val_loss: 1.6090\n",
      "Epoch 41/1000\n",
      "547/547 [==============================] - 298s 545ms/step - loss: 1.6147 - val_loss: 1.6089\n",
      "Epoch 42/1000\n",
      "547/547 [==============================] - 297s 544ms/step - loss: 1.6036 - val_loss: 1.6095\n",
      "Epoch 43/1000\n",
      "547/547 [==============================] - 299s 547ms/step - loss: 1.5905 - val_loss: 1.6100\n",
      "Epoch 44/1000\n",
      "547/547 [==============================] - 298s 544ms/step - loss: 1.5905 - val_loss: 1.6101\n",
      "Epoch 45/1000\n",
      "547/547 [==============================] - 297s 543ms/step - loss: 1.6026 - val_loss: 1.6100\n",
      "Epoch 46/1000\n",
      "547/547 [==============================] - 297s 543ms/step - loss: 1.6084 - val_loss: 1.6094\n",
      "Epoch 47/1000\n",
      "547/547 [==============================] - 298s 544ms/step - loss: 1.6170 - val_loss: 1.6090\n",
      "Epoch 48/1000\n",
      "547/547 [==============================] - 299s 546ms/step - loss: 1.6115 - val_loss: 1.6091\n",
      "Epoch 49/1000\n",
      "547/547 [==============================] - 298s 545ms/step - loss: 1.6178 - val_loss: 1.6084\n",
      "Epoch 50/1000\n",
      "547/547 [==============================] - 298s 546ms/step - loss: 1.6185 - val_loss: 1.6090\n",
      "Epoch 51/1000\n",
      "547/547 [==============================] - 298s 545ms/step - loss: 1.6158 - val_loss: 1.6090\n",
      "Epoch 52/1000\n",
      "547/547 [==============================] - 299s 546ms/step - loss: 1.6199 - val_loss: 1.6091\n",
      "Epoch 53/1000\n",
      "547/547 [==============================] - 298s 544ms/step - loss: 1.5944 - val_loss: 1.6094\n",
      "Epoch 54/1000\n",
      "547/547 [==============================] - 300s 548ms/step - loss: 1.6184 - val_loss: 1.6095\n",
      "Epoch 55/1000\n",
      "547/547 [==============================] - 300s 548ms/step - loss: 1.6237 - val_loss: 1.6088\n",
      "Epoch 56/1000\n",
      "547/547 [==============================] - 299s 547ms/step - loss: 1.6047 - val_loss: 1.6093\n",
      "Epoch 57/1000\n",
      "547/547 [==============================] - 299s 547ms/step - loss: 1.5987 - val_loss: 1.6091\n",
      "Epoch 58/1000\n",
      "547/547 [==============================] - 327s 598ms/step - loss: 1.6270 - val_loss: 1.6093\n",
      "Epoch 59/1000\n",
      "547/547 [==============================] - 351s 641ms/step - loss: 1.6093 - val_loss: 1.6091\n",
      "Epoch 60/1000\n",
      "547/547 [==============================] - 350s 640ms/step - loss: 1.6029 - val_loss: 1.6092\n",
      "Epoch 61/1000\n",
      "547/547 [==============================] - 348s 637ms/step - loss: 1.6013 - val_loss: 1.6096\n",
      "Epoch 62/1000\n",
      "547/547 [==============================] - 349s 639ms/step - loss: 1.5954 - val_loss: 1.6094\n",
      "Epoch 63/1000\n",
      "547/547 [==============================] - 351s 641ms/step - loss: 1.6317 - val_loss: 1.6094\n",
      "Epoch 64/1000\n",
      "547/547 [==============================] - 352s 644ms/step - loss: 1.6207 - val_loss: 1.6092\n",
      "Epoch 65/1000\n",
      "547/547 [==============================] - 351s 642ms/step - loss: 1.6071 - val_loss: 1.6095\n",
      "Epoch 66/1000\n",
      "547/547 [==============================] - 349s 639ms/step - loss: 1.6085 - val_loss: 1.6092\n",
      "Epoch 67/1000\n",
      "547/547 [==============================] - 352s 644ms/step - loss: 1.5866 - val_loss: 1.6102\n",
      "Epoch 68/1000\n",
      "547/547 [==============================] - 348s 637ms/step - loss: 1.6242 - val_loss: 1.6096\n",
      "Epoch 69/1000\n",
      "547/547 [==============================] - 332s 608ms/step - loss: 1.6046 - val_loss: 1.6093\n",
      "Epoch 70/1000\n",
      "547/547 [==============================] - 365s 667ms/step - loss: 1.6194 - val_loss: 1.6095\n",
      "Epoch 71/1000\n",
      "547/547 [==============================] - 407s 743ms/step - loss: 1.6144 - val_loss: 1.6092\n",
      "Epoch 72/1000\n",
      "547/547 [==============================] - 409s 747ms/step - loss: 1.6178 - val_loss: 1.6096\n",
      "Epoch 73/1000\n",
      "547/547 [==============================] - 408s 746ms/step - loss: 1.6140 - val_loss: 1.6096\n",
      "Epoch 74/1000\n",
      "547/547 [==============================] - 406s 743ms/step - loss: 1.6158 - val_loss: 1.6092\n",
      "Epoch 75/1000\n",
      "547/547 [==============================] - 407s 744ms/step - loss: 1.6034 - val_loss: 1.6092\n",
      "Epoch 76/1000\n",
      "547/547 [==============================] - 406s 743ms/step - loss: 1.6030 - val_loss: 1.6091\n",
      "Epoch 77/1000\n"
     ]
    },
    {
     "name": "stdout",
     "output_type": "stream",
     "text": [
      "547/547 [==============================] - 407s 745ms/step - loss: 1.5907 - val_loss: 1.6094\n",
      "Epoch 78/1000\n",
      "547/547 [==============================] - 407s 745ms/step - loss: 1.6068 - val_loss: 1.6094\n",
      "Epoch 79/1000\n",
      "547/547 [==============================] - 408s 746ms/step - loss: 1.6152 - val_loss: 1.6096\n",
      "Epoch 80/1000\n",
      "547/547 [==============================] - 409s 748ms/step - loss: 1.5869 - val_loss: 1.6097\n",
      "Epoch 81/1000\n",
      "547/547 [==============================] - 407s 744ms/step - loss: 1.6109 - val_loss: 1.6096\n",
      "Epoch 82/1000\n",
      "547/547 [==============================] - 408s 745ms/step - loss: 1.5983 - val_loss: 1.6093\n",
      "Epoch 83/1000\n",
      "547/547 [==============================] - 404s 738ms/step - loss: 1.6012 - val_loss: 1.6096\n",
      "Epoch 84/1000\n",
      "547/547 [==============================] - 407s 745ms/step - loss: 1.6031 - val_loss: 1.6099\n",
      "Epoch 85/1000\n",
      "547/547 [==============================] - 406s 743ms/step - loss: 1.5950 - val_loss: 1.6097\n",
      "Epoch 86/1000\n",
      "547/547 [==============================] - 371s 678ms/step - loss: 1.6011 - val_loss: 1.6096\n",
      "Epoch 87/1000\n",
      "547/547 [==============================] - 351s 641ms/step - loss: 1.6037 - val_loss: 1.6097\n",
      "Epoch 88/1000\n",
      "547/547 [==============================] - 352s 644ms/step - loss: 1.6180 - val_loss: 1.6097\n",
      "Epoch 89/1000\n",
      "547/547 [==============================] - 350s 640ms/step - loss: 1.6205 - val_loss: 1.6094\n",
      "Epoch 90/1000\n",
      "547/547 [==============================] - 351s 642ms/step - loss: 1.6085 - val_loss: 1.6095\n",
      "Epoch 91/1000\n",
      "547/547 [==============================] - 317s 579ms/step - loss: 1.5958 - val_loss: 1.6094\n",
      "Epoch 92/1000\n",
      "547/547 [==============================] - 299s 547ms/step - loss: 1.6014 - val_loss: 1.6095\n",
      "Epoch 93/1000\n",
      "547/547 [==============================] - 300s 549ms/step - loss: 1.6072 - val_loss: 1.6096\n",
      "Epoch 94/1000\n",
      "547/547 [==============================] - 299s 546ms/step - loss: 1.6230 - val_loss: 1.6097\n",
      "Epoch 95/1000\n",
      "547/547 [==============================] - 298s 544ms/step - loss: 1.5939 - val_loss: 1.6095\n",
      "Epoch 96/1000\n",
      "547/547 [==============================] - 297s 544ms/step - loss: 1.6276 - val_loss: 1.6095\n",
      "Epoch 97/1000\n",
      "547/547 [==============================] - 299s 546ms/step - loss: 1.6259 - val_loss: 1.6093\n",
      "Epoch 98/1000\n",
      "547/547 [==============================] - 298s 544ms/step - loss: 1.6123 - val_loss: 1.6092\n",
      "Epoch 99/1000\n",
      "547/547 [==============================] - 298s 544ms/step - loss: 1.5931 - val_loss: 1.6094\n",
      "Epoch 100/1000\n",
      "547/547 [==============================] - 297s 543ms/step - loss: 1.6365 - val_loss: 1.6092\n",
      "Epoch 101/1000\n",
      "547/547 [==============================] - 297s 544ms/step - loss: 1.5944 - val_loss: 1.6094\n",
      "Epoch 102/1000\n",
      "547/547 [==============================] - 299s 546ms/step - loss: 1.5957 - val_loss: 1.6094\n",
      "Epoch 103/1000\n",
      "547/547 [==============================] - 297s 543ms/step - loss: 1.6252 - val_loss: 1.6092\n",
      "Epoch 104/1000\n",
      "547/547 [==============================] - 298s 544ms/step - loss: 1.6055 - val_loss: 1.6094\n",
      "Epoch 105/1000\n",
      "547/547 [==============================] - 298s 546ms/step - loss: 1.6121 - val_loss: 1.6093\n",
      "Epoch 106/1000\n",
      "547/547 [==============================] - 298s 545ms/step - loss: 1.6039 - val_loss: 1.6093\n",
      "Epoch 107/1000\n",
      "547/547 [==============================] - 299s 547ms/step - loss: 1.6014 - val_loss: 1.6093\n",
      "Epoch 108/1000\n",
      "547/547 [==============================] - 299s 547ms/step - loss: 1.6087 - val_loss: 1.6094\n",
      "Epoch 109/1000\n",
      "547/547 [==============================] - 299s 547ms/step - loss: 1.6252 - val_loss: 1.6094\n",
      "Epoch 110/1000\n",
      "547/547 [==============================] - 298s 545ms/step - loss: 1.6049 - val_loss: 1.6094\n",
      "Epoch 111/1000\n",
      "547/547 [==============================] - 298s 545ms/step - loss: 1.6094 - val_loss: 1.6094\n",
      "Epoch 112/1000\n",
      "547/547 [==============================] - 296s 542ms/step - loss: 1.6086 - val_loss: 1.6095\n",
      "Epoch 113/1000\n",
      "547/547 [==============================] - 298s 545ms/step - loss: 1.6060 - val_loss: 1.6095\n",
      "Epoch 114/1000\n",
      "547/547 [==============================] - 298s 546ms/step - loss: 1.6132 - val_loss: 1.6094\n",
      "Epoch 115/1000\n",
      "547/547 [==============================] - 299s 546ms/step - loss: 1.6023 - val_loss: 1.6094\n",
      "Epoch 116/1000\n",
      "547/547 [==============================] - 298s 545ms/step - loss: 1.6170 - val_loss: 1.6094\n",
      "Epoch 117/1000\n",
      "547/547 [==============================] - 298s 545ms/step - loss: 1.6176 - val_loss: 1.6094\n",
      "Epoch 118/1000\n",
      "547/547 [==============================] - 297s 543ms/step - loss: 1.6154 - val_loss: 1.6094\n",
      "Epoch 119/1000\n",
      "547/547 [==============================] - 297s 544ms/step - loss: 1.6242 - val_loss: 1.6093\n",
      "Epoch 120/1000\n",
      "547/547 [==============================] - 297s 544ms/step - loss: 1.5944 - val_loss: 1.6092\n",
      "Epoch 121/1000\n",
      "547/547 [==============================] - 296s 542ms/step - loss: 1.5972 - val_loss: 1.6094\n"
     ]
    }
   ],
   "source": [
    "regularizer = tf.keras.regularizers.L2(0.0003)\n",
    "\n",
    "model = keras.models.Sequential()\n",
    "model.add(keras.layers.InputLayer(input_shape=[3000, 7]))\n",
    "model.add(keras.layers.Conv1D(filters=128, kernel_size=12, strides=2, padding=\"same\", \n",
    "                              activation=\"relu\", kernel_regularizer=regularizer))\n",
    "model.add(keras.layers.Conv1D(filters=128, kernel_size=12, strides=2, padding=\"same\", \n",
    "                              activation=\"relu\", kernel_regularizer=regularizer))\n",
    "model.add(keras.layers.Conv1D(filters=128, kernel_size=12, strides=2, padding=\"same\", \n",
    "                              activation=\"relu\", kernel_regularizer=regularizer))\n",
    "model.add(keras.layers.Conv1D(filters=128, kernel_size=12, strides=2, padding=\"same\", \n",
    "                              activation=\"relu\", kernel_regularizer=regularizer))\n",
    "model.add(keras.layers.Bidirectional(keras.layers.LSTM(256, return_sequences=True, kernel_regularizer=regularizer, dropout=0.7)))\n",
    "model.add(keras.layers.Bidirectional(keras.layers.LSTM(256, kernel_regularizer=regularizer, dropout=0.7)))\n",
    "model.add(keras.layers.Dropout(0.7))\n",
    "model.add(keras.layers.Dense(128, activation='relu', kernel_regularizer=regularizer))\n",
    "model.add(keras.layers.Dropout(0.7))\n",
    "model.add(keras.layers.Dense(5))\n",
    "    \n",
    "def scheduler(epoch, lr):\n",
    "    if epoch % 10 == 0:\n",
    "        return lr * 0.82\n",
    "    else:\n",
    "        return lr\n",
    "    \n",
    "lr_callback = tf.keras.callbacks.LearningRateScheduler(scheduler)\n",
    "\n",
    "early_stop = tf.keras.callbacks.EarlyStopping(monitor='val_loss', min_delta=0, patience=100, verbose=0,\n",
    "    mode='auto', baseline=None, restore_best_weights=True)\n",
    "\n",
    "optim = tf.keras.optimizers.Adam(learning_rate = 0.001)\n",
    "\n",
    "model.compile(loss=tf.keras.losses.SparseCategoricalCrossentropy(from_logits=True), optimizer=optim)\n",
    "\n",
    "# model.summary()\n",
    "# model(tf.ones([1, 6000, 6]))\n",
    "history = model.fit(X_train, y_train, epochs=1000, validation_data=(X_valid, y_valid), callbacks=[lr_callback, early_stop],\n",
    "                   batch_size=64, class_weight=cls_weight)\n",
    "\n",
    "# ,class_weight=cls_weight"
   ]
  },
  {
   "cell_type": "code",
   "execution_count": 12,
   "id": "8577efd9",
   "metadata": {},
   "outputs": [
    {
     "data": {
      "image/png": "[encoded data removed]",
      "text/plain": [
       "<Figure size 432x288 with 1 Axes>"
      ]
     },
     "metadata": {
      "needs_background": "light"
     },
     "output_type": "display_data"
    }
   ],
   "source": [
    "import matplotlib.pyplot as plt\n",
    "import matplotlib as mpl\n",
    " \n",
    "def plot_learning_curves(loss, val_loss):\n",
    "    plt.plot(np.arange(len(loss)) + 0.5, loss, \"b.-\", label=\"Training loss\")\n",
    "    plt.plot(np.arange(len(val_loss)) + 1, val_loss, \"r.-\", label=\"Validation loss\")\n",
    "    plt.gca().xaxis.set_major_locator(mpl.ticker.MaxNLocator(integer=True))\n",
    "    plt.axis([1, 30, 0.2, 1.5])\n",
    "    plt.legend(fontsize=14)\n",
    "    plt.xlabel(\"Epochs\")\n",
    "    plt.ylabel(\"Loss\")\n",
    "    plt.grid(True)\n",
    "\n",
    "plot_learning_curves(history.history[\"loss\"], history.history[\"val_loss\"])\n",
    "plt.show()"
   ]
  },
  {
   "cell_type": "code",
   "execution_count": 13,
   "id": "d656a7b0",
   "metadata": {},
   "outputs": [],
   "source": [
    "X_test, y_test = X_valid, y_valid"
   ]
  },
  {
   "cell_type": "code",
   "execution_count": 14,
   "id": "1f6edd3e",
   "metadata": {},
   "outputs": [
    {
     "name": "stdout",
     "output_type": "stream",
     "text": [
      "313/313 [==============================] - 49s 153ms/step - loss: 1.6022\n"
     ]
    },
    {
     "data": {
      "text/plain": [
       "1.6022487878799438"
      ]
     },
     "execution_count": 14,
     "metadata": {},
     "output_type": "execute_result"
    }
   ],
   "source": [
    "model.evaluate(X_test, y_test)"
   ]
  },
  {
   "cell_type": "code",
   "execution_count": 15,
   "id": "e9457abb",
   "metadata": {},
   "outputs": [
    {
     "data": {
      "text/plain": [
       "((10000,), (10000,))"
      ]
     },
     "execution_count": 15,
     "metadata": {},
     "output_type": "execute_result"
    }
   ],
   "source": [
    "pred = model.predict(X_test)\n",
    "max_pred = np.argmax(pred, axis = 1)\n",
    "\n",
    "max_pred.shape, y_test.shape"
   ]
  },
  {
   "cell_type": "code",
   "execution_count": 16,
   "id": "e0ad4d8e",
   "metadata": {},
   "outputs": [
    {
     "name": "stdout",
     "output_type": "stream",
     "text": [
      "1  class confusion matrix :  [2337    0    0    0    0]\n",
      "2  class confusion matrix :  [1195    0    0    0    0]\n",
      "3  class confusion matrix :  [5009    0    0    0    0]\n",
      "4  class confusion matrix :  [226   0   0   0   0]\n",
      "5  class confusion matrix :  [1233    0    0    0    0]\n"
     ]
    }
   ],
   "source": [
    "from sklearn.metrics import accuracy_score\n",
    "from sklearn.metrics import precision_score, recall_score, f1_score\n",
    "from sklearn.metrics import confusion_matrix\n",
    "from sklearn.metrics import roc_curve, roc_auc_score\n",
    "from sklearn.metrics import classification_report\n",
    "\n",
    "target_names = ['1', '2', '3', '4', '5']\n",
    "cf = confusion_matrix(y_test, max_pred)\n",
    "\n",
    "for i in range(len(cf)):\n",
    "    print(target_names[i], ' class confusion matrix : ', cf[i])"
   ]
  },
  {
   "cell_type": "code",
   "execution_count": 17,
   "id": "c0caf2a9",
   "metadata": {},
   "outputs": [
    {
     "name": "stdout",
     "output_type": "stream",
     "text": [
      "              precision    recall  f1-score   support\n",
      "\n",
      "           1       0.23      1.00      0.38      2337\n",
      "           2       0.00      0.00      0.00      1195\n",
      "           3       0.00      0.00      0.00      5009\n",
      "           4       0.00      0.00      0.00       226\n",
      "           5       0.00      0.00      0.00      1233\n",
      "\n",
      "    accuracy                           0.23     10000\n",
      "   macro avg       0.05      0.20      0.08     10000\n",
      "weighted avg       0.05      0.23      0.09     10000\n",
      "\n"
     ]
    },
    {
     "name": "stderr",
     "output_type": "stream",
     "text": [
      "/home/ubuntu/anaconda3/envs/tensorflow2.4_p37/lib/python3.7/site-packages/sklearn/metrics/_classification.py:1245: UndefinedMetricWarning: Precision and F-score are ill-defined and being set to 0.0 in labels with no predicted samples. Use `zero_division` parameter to control this behavior.\n",
      "  _warn_prf(average, modifier, msg_start, len(result))\n",
      "/home/ubuntu/anaconda3/envs/tensorflow2.4_p37/lib/python3.7/site-packages/sklearn/metrics/_classification.py:1245: UndefinedMetricWarning: Precision and F-score are ill-defined and being set to 0.0 in labels with no predicted samples. Use `zero_division` parameter to control this behavior.\n",
      "  _warn_prf(average, modifier, msg_start, len(result))\n",
      "/home/ubuntu/anaconda3/envs/tensorflow2.4_p37/lib/python3.7/site-packages/sklearn/metrics/_classification.py:1245: UndefinedMetricWarning: Precision and F-score are ill-defined and being set to 0.0 in labels with no predicted samples. Use `zero_division` parameter to control this behavior.\n",
      "  _warn_prf(average, modifier, msg_start, len(result))\n"
     ]
    }
   ],
   "source": [
    "print(classification_report(y_test, max_pred, target_names = target_names))"
   ]
  },
  {
   "cell_type": "code",
   "execution_count": 18,
   "id": "aa1e1a47",
   "metadata": {},
   "outputs": [
    {
     "data": {
      "image/png": "[encoded data removed]",
      "text/plain": [
       "<Figure size 432x288 with 1 Axes>"
      ]
     },
     "metadata": {
      "needs_background": "light"
     },
     "output_type": "display_data"
    },
    {
     "data": {
      "text/plain": [
       "<Figure size 432x288 with 0 Axes>"
      ]
     },
     "metadata": {},
     "output_type": "display_data"
    }
   ],
   "source": [
    "from itertools import cycle\n",
    "from sklearn import svm, datasets\n",
    "from sklearn.metrics import roc_curve, auc, roc_auc_score\n",
    "from sklearn.model_selection import train_test_split\n",
    "from sklearn.preprocessing import label_binarize\n",
    "from sklearn.multiclass import OneVsRestClassifier\n",
    "from scipy import interp\n",
    "from tensorflow.keras.utils import to_categorical\n",
    "\n",
    "n_classes = 5\n",
    "fpr = dict()\n",
    "tpr = dict()\n",
    "roc_auc = dict()\n",
    "\n",
    "y_test_c = to_categorical(y_test)\n",
    "\n",
    "for i in range(n_classes):\n",
    "    fpr[i], tpr[i], _ = roc_curve(y_test_c[:, i], pred[:, i])\n",
    "    roc_auc[i] = auc(fpr[i], tpr[i])\n",
    "    \n",
    "fpr[\"micro\"], tpr[\"micro\"], _ = roc_curve(y_test_c.ravel(), pred.ravel())\n",
    "roc_auc[\"micro\"] = auc(fpr[\"micro\"], tpr[\"micro\"])\n",
    "\n",
    "# First aggregate all false positive rates\n",
    "all_fpr = np.unique(np.concatenate([fpr[i] for i in range(n_classes)]))\n",
    "\n",
    "# Then interpolate all ROC curves at this points\n",
    "mean_tpr = np.zeros_like(all_fpr)\n",
    "for i in range(n_classes):\n",
    "    mean_tpr += np.interp(all_fpr, fpr[i], tpr[i])\n",
    "\n",
    "# Finally average it and compute AUC\n",
    "mean_tpr /= n_classes\n",
    "lw = 2\n",
    "\n",
    "fpr[\"macro\"] = all_fpr\n",
    "tpr[\"macro\"] = mean_tpr\n",
    "roc_auc[\"macro\"] = auc(fpr[\"macro\"], tpr[\"macro\"])\n",
    "\n",
    "# Plot all ROC curves\n",
    "plt.figure()\n",
    "plt.plot(\n",
    "    fpr[\"micro\"],\n",
    "    tpr[\"micro\"],\n",
    "    label=\"micro-average ROC curve (area = {0:0.2f})\".format(roc_auc[\"micro\"]),\n",
    "    color=\"deeppink\",\n",
    "    linestyle=\":\",\n",
    "    linewidth=4,\n",
    ")\n",
    "\n",
    "plt.plot(\n",
    "    fpr[\"macro\"],\n",
    "    tpr[\"macro\"],\n",
    "    label=\"macro-average ROC curve (area = {0:0.2f})\".format(roc_auc[\"macro\"]),\n",
    "    color=\"navy\",\n",
    "    linestyle=\":\",\n",
    "    linewidth=4,\n",
    ")\n",
    "\n",
    "colors = cycle([\"aqua\", \"darkorange\", \"cornflowerblue\"])\n",
    "for i, color in zip(range(n_classes), colors):\n",
    "    plt.plot(\n",
    "        fpr[i],\n",
    "        tpr[i],\n",
    "        color=color,\n",
    "        lw=lw,\n",
    "        label=\"ROC curve of class {0} (area = {1:0.2f})\".format(i, roc_auc[i]),\n",
    "    )\n",
    "\n",
    "plt.plot([0, 1], [0, 1], \"k--\", lw=lw)\n",
    "plt.xlim([0.0, 1.0])\n",
    "plt.ylim([0.0, 1.05])\n",
    "plt.xlabel(\"False Positive Rate\")\n",
    "plt.ylabel(\"True Positive Rate\")\n",
    "plt.title(\"Some extension of Receiver operating characteristic to multiclass\")\n",
    "plt.legend(loc=\"lower right\")\n",
    "plt.show()\n",
    "\n",
    "plt.savefig('roc_curve.png')"
   ]
  },
  {
   "cell_type": "code",
   "execution_count": 19,
   "id": "f120f4cb",
   "metadata": {},
   "outputs": [
    {
     "name": "stdout",
     "output_type": "stream",
     "text": [
      "One-vs-One ROC AUC scores:\n",
      "0.500578 (macro),\n",
      "0.500063 (weighted by prevalence)\n",
      "One-vs-Rest ROC AUC scores:\n",
      "0.500578 (macro),\n",
      "0.500063 (weighted by prevalence)\n"
     ]
    }
   ],
   "source": [
    "macro_roc_auc_ovo = roc_auc_score(y_test_c, pred, multi_class=\"ovo\", average=\"macro\")\n",
    "weighted_roc_auc_ovo = roc_auc_score(\n",
    "    y_test_c, pred, multi_class=\"ovo\", average=\"weighted\"\n",
    ")\n",
    "macro_roc_auc_ovr = roc_auc_score(y_test_c, pred, multi_class=\"ovr\", average=\"macro\")\n",
    "weighted_roc_auc_ovr = roc_auc_score(\n",
    "    y_test_c, pred, multi_class=\"ovr\", average=\"weighted\"\n",
    ")\n",
    "print(\n",
    "    \"One-vs-One ROC AUC scores:\\n{:.6f} (macro),\\n{:.6f} \"\n",
    "    \"(weighted by prevalence)\".format(macro_roc_auc_ovo, weighted_roc_auc_ovo)\n",
    ")\n",
    "print(\n",
    "    \"One-vs-Rest ROC AUC scores:\\n{:.6f} (macro),\\n{:.6f} \"\n",
    "    \"(weighted by prevalence)\".format(macro_roc_auc_ovr, weighted_roc_auc_ovr)\n",
    ")"
   ]
  },
  {
   "cell_type": "code",
   "execution_count": 20,
   "id": "3809f3c0",
   "metadata": {},
   "outputs": [
    {
     "data": {
      "text/plain": [
       "<AxesSubplot:>"
      ]
     },
     "execution_count": 20,
     "metadata": {},
     "output_type": "execute_result"
    },
    {
     "data": {
      "image/png": "[encoded data removed]",
      "text/plain": [
       "<Figure size 432x288 with 2 Axes>"
      ]
     },
     "metadata": {
      "needs_background": "light"
     },
     "output_type": "display_data"
    }
   ],
   "source": [
    "import seaborn as sns\n",
    "\n",
    "cf_matrix = confusion_matrix(y_test, max_pred)\n",
    "sns.heatmap(cf_matrix/np.sum(cf_matrix), annot=True, fmt='.2%', cmap='Blues', xticklabels=[11, 12, 13, 14, 15])"
   ]
  },
  {
   "cell_type": "markdown",
   "id": "selected-dancing",
   "metadata": {},
   "source": [
    "# model save"
   ]
  },
  {
   "cell_type": "code",
   "execution_count": 40,
   "id": "e2f5634e",
   "metadata": {},
   "outputs": [
    {
     "name": "stdout",
     "output_type": "stream",
     "text": [
      "WARNING:tensorflow:From C:\\Users\\82107\\AppData\\Roaming\\Python\\Python36\\site-packages\\tensorflow\\python\\training\\tracking\\tracking.py:111: Model.state_updates (from tensorflow.python.keras.engine.training) is deprecated and will be removed in a future version.\n",
      "Instructions for updating:\n",
      "This property should not be used in TensorFlow 2.0, as updates are applied automatically.\n",
      "WARNING:tensorflow:From C:\\Users\\82107\\AppData\\Roaming\\Python\\Python36\\site-packages\\tensorflow\\python\\training\\tracking\\tracking.py:111: Layer.updates (from tensorflow.python.keras.engine.base_layer) is deprecated and will be removed in a future version.\n",
      "Instructions for updating:\n",
      "This property should not be used in TensorFlow 2.0, as updates are applied automatically.\n",
      "INFO:tensorflow:Assets written to: ./saved_model/1/assets\n"
     ]
    }
   ],
   "source": [
    "model.save('./saved_model/1/')"
   ]
  },
  {
   "cell_type": "markdown",
   "id": "c99c77f2",
   "metadata": {},
   "source": [
    "# Test data sampling"
   ]
  },
  {
   "cell_type": "code",
   "execution_count": 61,
   "id": "69addba2",
   "metadata": {
    "scrolled": true
   },
   "outputs": [
    {
     "name": "stdout",
     "output_type": "stream",
     "text": [
      "Epoch 1/500\n",
      "3750/3750 [==============================] - 442s 118ms/step - loss: 1.5589 - val_loss: 1.4334\n",
      "Epoch 2/500\n",
      "3750/3750 [==============================] - 422s 112ms/step - loss: 1.4804 - val_loss: 1.4255\n",
      "Epoch 3/500\n",
      "3750/3750 [==============================] - 408s 109ms/step - loss: 1.4642 - val_loss: 1.4688\n",
      "Epoch 4/500\n",
      "3750/3750 [==============================] - 407s 108ms/step - loss: 1.4500 - val_loss: 1.5099\n",
      "Epoch 5/500\n",
      "3750/3750 [==============================] - 407s 109ms/step - loss: 1.4406 - val_loss: 1.5060\n",
      "Epoch 6/500\n",
      "3750/3750 [==============================] - 406s 108ms/step - loss: 1.4318 - val_loss: 1.4443\n",
      "Epoch 7/500\n",
      "3750/3750 [==============================] - 414s 110ms/step - loss: 1.4283 - val_loss: 1.5251\n",
      "Epoch 8/500\n",
      "3750/3750 [==============================] - 405s 108ms/step - loss: 1.4225 - val_loss: 1.5221\n",
      "Epoch 9/500\n",
      "3750/3750 [==============================] - 405s 108ms/step - loss: 1.4204 - val_loss: 1.3896\n",
      "Epoch 10/500\n",
      "3750/3750 [==============================] - 405s 108ms/step - loss: 1.4142 - val_loss: 1.5114\n",
      "Epoch 11/500\n",
      "3750/3750 [==============================] - 404s 108ms/step - loss: 1.4073 - val_loss: 1.5190\n",
      "Epoch 12/500\n",
      "3750/3750 [==============================] - 404s 108ms/step - loss: 1.4066 - val_loss: 1.5101\n",
      "Epoch 13/500\n",
      "3750/3750 [==============================] - 407s 108ms/step - loss: 1.3999 - val_loss: 1.5844\n",
      "Epoch 14/500\n",
      "3750/3750 [==============================] - 385s 103ms/step - loss: 1.3977 - val_loss: 1.4310\n",
      "Epoch 15/500\n",
      "3750/3750 [==============================] - 392s 104ms/step - loss: 1.3967 - val_loss: 1.4696\n",
      "Epoch 16/500\n",
      "3750/3750 [==============================] - 409s 109ms/step - loss: 1.3956 - val_loss: 1.4298\n",
      "Epoch 17/500\n",
      "3750/3750 [==============================] - 399s 106ms/step - loss: 1.3884 - val_loss: 1.4488\n",
      "Epoch 18/500\n",
      "3750/3750 [==============================] - 399s 106ms/step - loss: 1.3892 - val_loss: 1.4878\n",
      "Epoch 19/500\n",
      "3750/3750 [==============================] - 398s 106ms/step - loss: 1.3841 - val_loss: 1.3719\n",
      "Epoch 20/500\n",
      "3750/3750 [==============================] - 399s 106ms/step - loss: 1.3809 - val_loss: 1.4815\n",
      "Epoch 21/500\n",
      "3750/3750 [==============================] - 398s 106ms/step - loss: 1.3792 - val_loss: 1.4853\n",
      "Epoch 22/500\n",
      "3750/3750 [==============================] - 398s 106ms/step - loss: 1.3746 - val_loss: 1.5641\n",
      "Epoch 23/500\n",
      "3750/3750 [==============================] - 398s 106ms/step - loss: 1.3720 - val_loss: 1.4081\n",
      "Epoch 24/500\n",
      "3750/3750 [==============================] - 401s 107ms/step - loss: 1.3730 - val_loss: 1.4585\n",
      "Epoch 25/500\n",
      "3750/3750 [==============================] - 402s 107ms/step - loss: 1.3700 - val_loss: 1.4815\n",
      "Epoch 26/500\n",
      "3750/3750 [==============================] - 398s 106ms/step - loss: 1.3681 - val_loss: 1.4408\n",
      "Epoch 27/500\n",
      "3750/3750 [==============================] - 398s 106ms/step - loss: 1.3659 - val_loss: 1.5205\n",
      "Epoch 28/500\n",
      "3750/3750 [==============================] - 396s 106ms/step - loss: 1.3722 - val_loss: 1.3823\n",
      "Epoch 29/500\n",
      "3750/3750 [==============================] - 397s 106ms/step - loss: 1.3659 - val_loss: 1.4799\n",
      "Epoch 30/500\n",
      "3750/3750 [==============================] - 397s 106ms/step - loss: 1.3657 - val_loss: 1.4771\n",
      "Epoch 31/500\n",
      "3750/3750 [==============================] - 396s 106ms/step - loss: 1.3587 - val_loss: 1.4600\n",
      "Epoch 32/500\n",
      "3750/3750 [==============================] - 396s 106ms/step - loss: 1.3601 - val_loss: 1.4167\n",
      "Epoch 33/500\n",
      "3750/3750 [==============================] - 418s 111ms/step - loss: 1.3565 - val_loss: 1.4371\n",
      "Epoch 34/500\n",
      "3750/3750 [==============================] - 432s 115ms/step - loss: 1.3575 - val_loss: 1.5276\n",
      "Epoch 35/500\n",
      "3750/3750 [==============================] - 397s 106ms/step - loss: 1.3500 - val_loss: 1.4633\n",
      "Epoch 36/500\n",
      "3750/3750 [==============================] - 395s 105ms/step - loss: 1.3515 - val_loss: 1.4342\n",
      "Epoch 37/500\n",
      "3750/3750 [==============================] - 395s 105ms/step - loss: 1.3526 - val_loss: 1.4847\n",
      "Epoch 38/500\n",
      "3750/3750 [==============================] - 396s 105ms/step - loss: 1.3470 - val_loss: 1.4754\n",
      "Epoch 39/500\n",
      "3750/3750 [==============================] - 396s 105ms/step - loss: 1.3489 - val_loss: 1.4839\n"
     ]
    }
   ],
   "source": [
    "os.environ[\"CUDA_DEVICE_ORDER\"]=\"PCI_BUS_ID\" \n",
    "os.environ[\"CUDA_VISIBLE_DEVICES\"]=\"1\"\n",
    "\n",
    "regularizer = tf.keras.regularizers.L2(0.0001)\n",
    "\n",
    "model = keras.models.Sequential([\n",
    "    keras.layers.Conv1D(filters=20, kernel_size=4, strides=2, padding=\"valid\",\n",
    "                        input_shape=[None, 6], kernel_regularizer=regularizer),\n",
    "    keras.layers.BatchNormalization(),\n",
    "    keras.layers.Activation('relu'),\n",
    "    keras.layers.Conv1D(filters=10, kernel_size=4, strides=2, padding=\"valid\", kernel_regularizer=regularizer),\n",
    "    keras.layers.BatchNormalization(),\n",
    "    keras.layers.Activation('relu'),\n",
    "    keras.layers.Conv1D(filters=10, kernel_size=4, strides=2, padding=\"valid\", kernel_regularizer=regularizer),\n",
    "    keras.layers.BatchNormalization(),\n",
    "    keras.layers.Activation('relu'),\n",
    "    keras.layers.Conv1D(filters=10, kernel_size=2, strides=2, padding=\"valid\", kernel_regularizer=regularizer),\n",
    "    keras.layers.BatchNormalization(),\n",
    "    keras.layers.Activation('relu'),\n",
    "    keras.layers.GRU(20, return_sequences=True, kernel_regularizer=regularizer),\n",
    "    keras.layers.GRU(20, return_sequences=True, kernel_regularizer=regularizer),\n",
    "    keras.layers.GRU(20, kernel_regularizer=regularizer),\n",
    "    keras.layers.Dropout(0.7),\n",
    "    keras.layers.Dense(5)\n",
    "])\n",
    "\n",
    "def scheduler(epoch, lr):\n",
    "    if epoch is not 0 and epoch % 10 == 0:\n",
    "        return lr * tf.math.exp(-0.1)\n",
    "    else:\n",
    "        return lr \n",
    "\n",
    "lr_decay = tf.keras.callbacks.LearningRateScheduler(scheduler)\n",
    "\n",
    "early_stop = tf.keras.callbacks.EarlyStopping(monitor='val_loss', min_delta=0, patience=20, verbose=0,\n",
    "    mode='auto', baseline=None, restore_best_weights=True)\n",
    "\n",
    "optim = tf.keras.optimizers.Adam(clipvalue=2)\n",
    "\n",
    "model.compile(loss=tf.keras.losses.SparseCategoricalCrossentropy(from_logits=True), optimizer=optim)\n",
    "\n",
    "# model(tf.ones([1, 6000, 6]))\n",
    "history = model.fit(X_train, y_train, epochs=500, validation_data=(X_valid, y_valid), callbacks=[lr_decay, early_stop], \n",
    "                   class_weight=cls_weight)"
   ]
  },
  {
   "cell_type": "code",
   "execution_count": 62,
   "id": "7db9e201",
   "metadata": {},
   "outputs": [
    {
     "data": {
      "image/png": "[encoded data removed]",
      "text/plain": [
       "<Figure size 432x288 with 1 Axes>"
      ]
     },
     "metadata": {
      "needs_background": "light"
     },
     "output_type": "display_data"
    }
   ],
   "source": [
    "import matplotlib.pyplot as plt\n",
    "import matplotlib as mpl\n",
    "\n",
    "def plot_learning_curves(loss, val_loss):\n",
    "    plt.plot(np.arange(len(loss)) + 0.5, loss, \"b.-\", label=\"Training loss\")\n",
    "    plt.plot(np.arange(len(val_loss)) + 1, val_loss, \"r.-\", label=\"Validation loss\")\n",
    "    plt.gca().xaxis.set_major_locator(mpl.ticker.MaxNLocator(integer=True))\n",
    "    plt.axis([1, 30, 0.2, 1.5])\n",
    "    plt.legend(fontsize=14)\n",
    "    plt.xlabel(\"Epochs\")\n",
    "    plt.ylabel(\"Loss\")\n",
    "    plt.grid(True)\n",
    "\n",
    "plot_learning_curves(history.history[\"loss\"], history.history[\"val_loss\"])\n",
    "plt.show()"
   ]
  },
  {
   "cell_type": "code",
   "execution_count": 63,
   "id": "4657a63c",
   "metadata": {},
   "outputs": [
    {
     "name": "stdout",
     "output_type": "stream",
     "text": [
      "625/625 [==============================] - 16s 26ms/step - loss: 1.3719 0s - loss: 1.37\n"
     ]
    },
    {
     "data": {
      "text/plain": [
       "1.371914267539978"
      ]
     },
     "execution_count": 63,
     "metadata": {},
     "output_type": "execute_result"
    }
   ],
   "source": [
    "model.evaluate(X_valid, y_valid)"
   ]
  },
  {
   "cell_type": "code",
   "execution_count": 64,
   "id": "3e5d1eab",
   "metadata": {},
   "outputs": [
    {
     "data": {
      "text/plain": [
       "((21959,), (21959,))"
      ]
     },
     "execution_count": 64,
     "metadata": {},
     "output_type": "execute_result"
    }
   ],
   "source": [
    "pred = model.predict(X_test)\n",
    "max_pred = np.argmax(pred, axis = 1)\n",
    "\n",
    "max_pred.shape, y_test.shape"
   ]
  },
  {
   "cell_type": "code",
   "execution_count": 65,
   "id": "533e6a89",
   "metadata": {},
   "outputs": [
    {
     "name": "stdout",
     "output_type": "stream",
     "text": [
      "Wake  class confusion matrix :  [ 122 3100  140  260 3367]\n",
      "N1  class confusion matrix :  [ 120 5794  162  176 3923]\n",
      "N2  class confusion matrix :  [  46 1504   63  161 1517]\n",
      "N3  class confusion matrix :  [ 10  19   0 237 326]\n",
      "R  class confusion matrix :  [ 11 278  13  20 590]\n"
     ]
    }
   ],
   "source": [
    "from sklearn.metrics import accuracy_score\n",
    "from sklearn.metrics import precision_score, recall_score, f1_score\n",
    "from sklearn.metrics import confusion_matrix\n",
    "from sklearn.metrics import roc_curve, roc_auc_score\n",
    "from sklearn.metrics import classification_report\n",
    "\n",
    "target_names = ['Wake', 'N1', 'N2', 'N3', 'R']\n",
    "cf = confusion_matrix(y_test, max_pred)\n",
    "\n",
    "for i in range(len(cf)):\n",
    "    print(target_names[i], ' class confusion matrix : ', cf[i])"
   ]
  },
  {
   "cell_type": "code",
   "execution_count": 66,
   "id": "04b29c67",
   "metadata": {},
   "outputs": [
    {
     "name": "stdout",
     "output_type": "stream",
     "text": [
      "              precision    recall  f1-score   support\n",
      "\n",
      "        Wake       0.39      0.02      0.03      6989\n",
      "          N1       0.54      0.57      0.56     10175\n",
      "          N2       0.17      0.02      0.03      3291\n",
      "          N3       0.28      0.40      0.33       592\n",
      "           R       0.06      0.65      0.11       912\n",
      "\n",
      "    accuracy                           0.31     21959\n",
      "   macro avg       0.29      0.33      0.21     21959\n",
      "weighted avg       0.41      0.31      0.29     21959\n",
      "\n"
     ]
    }
   ],
   "source": [
    "print(classification_report(y_test, max_pred, target_names = target_names))"
   ]
  },
  {
   "cell_type": "code",
   "execution_count": 67,
   "id": "f2fafe43",
   "metadata": {},
   "outputs": [
    {
     "name": "stdout",
     "output_type": "stream",
     "text": [
      "WARNING:tensorflow:From C:\\ProgramData\\Anaconda3\\envs\\py36\\lib\\site-packages\\tensorflow\\python\\training\\tracking\\tracking.py:111: Model.state_updates (from tensorflow.python.keras.engine.training) is deprecated and will be removed in a future version.\n",
      "Instructions for updating:\n",
      "This property should not be used in TensorFlow 2.0, as updates are applied automatically.\n",
      "WARNING:tensorflow:From C:\\ProgramData\\Anaconda3\\envs\\py36\\lib\\site-packages\\tensorflow\\python\\training\\tracking\\tracking.py:111: Layer.updates (from tensorflow.python.keras.engine.base_layer) is deprecated and will be removed in a future version.\n",
      "Instructions for updating:\n",
      "This property should not be used in TensorFlow 2.0, as updates are applied automatically.\n",
      "INFO:tensorflow:Assets written to: ./saved_model/1/assets\n"
     ]
    }
   ],
   "source": [
    "model.save('./saved_model/1/')"
   ]
  },
  {
   "cell_type": "code",
   "execution_count": null,
   "id": "0d1d99af",
   "metadata": {
    "scrolled": true
   },
   "outputs": [],
   "source": [
    "# os.environ[\"CUDA_DEVICE_ORDER\"]=\"PCI_BUS_ID\" \n",
    "# os.environ[\"CUDA_VISIBLE_DEVICES\"]=\"1\"\n",
    "\n",
    "# regularizer = tf.keras.regularizers.L2(0.0001)\n",
    "\n",
    "# model = keras.models.Sequential([\n",
    "#     keras.layers.Conv1D(filters=20, kernel_size=2, padding=\"causal\", dilation_rate=1,\n",
    "#                         input_shape=[3002, 6], kernel_regularizer=regularizer),\n",
    "#     keras.layers.BatchNormalization(),\n",
    "#     keras.layers.Activation('relu'),\n",
    "#     keras.layers.Conv1D(filters=20, kernel_size=2, padding=\"causal\", dilation_rate=2, kernel_regularizer=regularizer),\n",
    "#     keras.layers.BatchNormalization(),\n",
    "#     keras.layers.Activation('relu'),\n",
    "#     keras.layers.Conv1D(filters=20, kernel_size=2, padding=\"causal\", dilation_rate=4, kernel_regularizer=regularizer),\n",
    "#     keras.layers.BatchNormalization(),\n",
    "#     keras.layers.Activation('relu'),\n",
    "#     keras.layers.Conv1D(filters=20, kernel_size=2, padding=\"causal\", dilation_rate=8, kernel_regularizer=regularizer),\n",
    "#     keras.layers.BatchNormalization(),\n",
    "#     keras.layers.Activation('relu'),\n",
    "#     keras.layers.Conv1D(filters=20, kernel_size=2, padding=\"causal\", dilation_rate=1, kernel_regularizer=regularizer),\n",
    "#     keras.layers.BatchNormalization(),\n",
    "#     keras.layers.Activation('relu'),\n",
    "#     keras.layers.Conv1D(filters=20, kernel_size=2, padding=\"causal\", dilation_rate=2, kernel_regularizer=regularizer),\n",
    "#     keras.layers.BatchNormalization(),\n",
    "#     keras.layers.Activation('relu'),\n",
    "#     keras.layers.Conv1D(filters=20, kernel_size=2, padding=\"causal\", dilation_rate=4, kernel_regularizer=regularizer),\n",
    "#     keras.layers.BatchNormalization(),\n",
    "#     keras.layers.Activation('relu'),\n",
    "#     keras.layers.Conv1D(filters=20, kernel_size=2, padding=\"causal\", dilation_rate=8, kernel_regularizer=regularizer),\n",
    "#     keras.layers.BatchNormalization(),\n",
    "#     keras.layers.Activation('relu'),\n",
    "#     keras.layers.Conv1D(filters=40, kernel_size=2, strides=2, padding=\"same\", kernel_regularizer=regularizer),\n",
    "#     keras.layers.BatchNormalization(),\n",
    "#     keras.layers.Activation('relu'),\n",
    "#     keras.layers.Conv1D(filters=40, kernel_size=2, strides=2, padding=\"same\", kernel_regularizer=regularizer),\n",
    "#     keras.layers.BatchNormalization(),\n",
    "#     keras.layers.Activation('relu'),\n",
    "#     keras.layers.GRU(20, return_sequences=True, kernel_regularizer=regularizer),\n",
    "#     keras.layers.GRU(20, return_sequences=True, kernel_regularizer=regularizer),\n",
    "#     keras.layers.GRU(20, kernel_regularizer=regularizer),\n",
    "#     keras.layers.Dropout(0.7),\n",
    "#     keras.layers.Dense(5)\n",
    "# ])\n",
    "\n",
    "# def scheduler(epoch, lr):\n",
    "#     if epoch is not 0 and epoch % 10 == 0:\n",
    "#         return lr * tf.math.exp(-0.1)\n",
    "#     else:\n",
    "#         return lr \n",
    "\n",
    "# lr_decay = tf.keras.callbacks.LearningRateScheduler(scheduler)\n",
    "\n",
    "# early_stop = tf.keras.callbacks.EarlyStopping(monitor='val_loss', min_delta=0, patience=30, verbose=0,\n",
    "#     mode='auto', baseline=None, restore_best_weights=True)\n",
    "\n",
    "# optim = tf.keras.optimizers.Adam(learning_rate=0.001, clipvalue=0.5)\n",
    "\n",
    "# model.compile(loss=tf.keras.losses.SparseCategoricalCrossentropy(from_logits=True), optimizer=optim)\n",
    "\n",
    "# # model.summary()\n",
    "\n",
    "# # model(tf.ones([1, 6000, 6]))\n",
    "# history = model.fit(X_train, y_train, epochs=200, batch_size = 16, validation_data=(X_valid, y_valid), \n",
    "#                     callbacks=[lr_decay, early_stop])"
   ]
  },
  {
   "cell_type": "code",
   "execution_count": null,
   "id": "3529b23c",
   "metadata": {},
   "outputs": [],
   "source": [
    "os.environ[\"CUDA_DEVICE_ORDER\"]=\"PCI_BUS_ID\" \n",
    "os.environ[\"CUDA_VISIBLE_DEVICES\"]=\"1\"\n",
    "\n",
    "regularizer = tf.keras.regularizers.L2(0.0001)\n",
    "\n",
    "model = keras.models.Sequential([\n",
    "    keras.layers.Conv1D(filters=20, kernel_size=4, strides=2, padding=\"same\",\n",
    "                        input_shape=[3002, 6], kernel_regularizer=regularizer),\n",
    "    keras.layers.BatchNormalization(),\n",
    "    keras.layers.LeakyReLU(),\n",
    "#     keras.layers.Conv1D(filters=20, kernel_size=4, strides=2, padding=\"same\", kernel_regularizer=regularizer),\n",
    "#     keras.layers.BatchNormalization(),\n",
    "#     keras.layers.LeakyReLU(),\n",
    "#     keras.layers.Conv1D(filters=20, kernel_size=4, strides=2, padding=\"same\", kernel_regularizer=regularizer),\n",
    "#     keras.layers.BatchNormalization(),\n",
    "#     keras.layers.LeakyReLU(),\n",
    "#     keras.layers.Conv1D(filters=20, kernel_size=4, strides=2, padding=\"same\", kernel_regularizer=regularizer),\n",
    "#     keras.layers.BatchNormalization(),\n",
    "#     keras.layers.LeakyReLU(),\n",
    "#     keras.layers.GRU(20, return_sequences=True, kernel_regularizer=regularizer),\n",
    "    keras.layers.GRU(20, return_sequences=True, kernel_regularizer=regularizer),\n",
    "    keras.layers.GRU(20, kernel_regularizer=regularizer),\n",
    "    keras.layers.Dense(128, activation='relu', kernel_regularizer=regularizer),\n",
    "    keras.layers.Dense(128, activation='relu', kernel_regularizer=regularizer),\n",
    "    keras.layers.Dense(5)\n",
    "])\n",
    "\n",
    "def scheduler(epoch, lr):\n",
    "    if epoch % 5 == 0:\n",
    "        return lr * tf.math.exp(-0.1)\n",
    "    else:\n",
    "        return lr\n",
    "    \n",
    "lr_callback = tf.keras.callbacks.LearningRateScheduler(scheduler)\n",
    "\n",
    "early_stop = tf.keras.callbacks.EarlyStopping(monitor='val_loss', min_delta=0, patience=30, verbose=0,\n",
    "    mode='auto', baseline=None, restore_best_weights=True)\n",
    "\n",
    "optim = tf.keras.optimizers.Adam(learning_rate = 0.001, clipvalue=0.5)\n",
    "\n",
    "model.compile(loss=tf.keras.losses.SparseCategoricalCrossentropy(from_logits=True), optimizer=optim)\n",
    "\n",
    "# model.summary()\n",
    "# model(tf.ones([1, 6000, 6]))\n",
    "history = model.fit(X_train, y_train, epochs=300, validation_data=(X_valid, y_valid), callbacks=[lr_decay, early_stop],\n",
    "                   batch_size=16)\n",
    "\n",
    "# ,class_weight=cls_weight"
   ]
  }
 ],
 "metadata": {
  "kernelspec": {
   "display_name": "Python [conda env:tensorflow2.4_p37] *",
   "language": "python",
   "name": "conda-env-tensorflow2.4_p37-py"
  },
  "language_info": {
   "codemirror_mode": {
    "name": "ipython",
    "version": 3
   },
   "file_extension": ".py",
   "mimetype": "text/x-python",
   "name": "python",
   "nbconvert_exporter": "python",
   "pygments_lexer": "ipython3",
   "version": "3.7.10"
  }
 },
 "nbformat": 4,
 "nbformat_minor": 5
}
